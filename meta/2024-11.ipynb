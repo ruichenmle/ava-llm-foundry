{
  "nbformat": 4,
  "nbformat_minor": 0,
  "metadata": {
    "colab": {
      "provenance": [],
      "authorship_tag": "ABX9TyMOt10KLFDCFZFulfjNuQxe",
      "include_colab_link": true
    },
    "kernelspec": {
      "name": "python3",
      "display_name": "Python 3"
    },
    "language_info": {
      "name": "python"
    }
  },
  "cells": [
    {
      "cell_type": "markdown",
      "metadata": {
        "id": "view-in-github",
        "colab_type": "text"
      },
      "source": [
        "<a href=\"https://colab.research.google.com/github/ruichenmle/ava-llm-foundry/blob/main/meta/2024-11.ipynb\" target=\"_parent\"><img src=\"https://colab.research.google.com/assets/colab-badge.svg\" alt=\"Open In Colab\"/></a>"
      ]
    },
    {
      "cell_type": "code",
      "execution_count": null,
      "metadata": {
        "id": "IsCrIwEsC9VF"
      },
      "outputs": [],
      "source": [
        "import random\n",
        "from collections import deque, defaultdict\n",
        "from typing import Optional, List"
      ]
    },
    {
      "cell_type": "code",
      "source": [],
      "metadata": {
        "id": "ZklL6ZQ3DkZp"
      },
      "execution_count": null,
      "outputs": []
    },
    {
      "cell_type": "code",
      "source": [
        "# @title 1249. Minimum Remove to Make Valid Parentheses\n",
        "# time:  O(N)\n",
        "# space: O(1)\n",
        "class Solution:\n",
        "    def minRemoveToMakeValid(self, s: str) -> str:\n",
        "        s = list(s) # string cannot be modified\n",
        "        n = len(s)\n",
        "        num_open = 0\n",
        "\n",
        "        # remove close char \")\"\n",
        "        for i in range(n):\n",
        "            c = s[i]\n",
        "            if c == \"(\":\n",
        "                num_open += 1\n",
        "            elif c == \")\":\n",
        "                if num_open > 0:\n",
        "                    num_open -= 1\n",
        "                else:\n",
        "                    s[i] = \"\"\n",
        "\n",
        "        # second pass: remove open char \"(\"\n",
        "        num_open = 0\n",
        "        for i in reversed(range(n)):\n",
        "            c = s[i]\n",
        "            if c == \")\":\n",
        "                num_open += 1\n",
        "            elif c == \"(\":\n",
        "                if num_open > 0:\n",
        "                    num_open -= 1\n",
        "                else:\n",
        "                    s[i] = \"\"\n",
        "\n",
        "        return \"\".join(s)\n",
        "\n"
      ],
      "metadata": {
        "id": "KaqVWBQzDFKK",
        "cellView": "form"
      },
      "execution_count": null,
      "outputs": []
    },
    {
      "cell_type": "code",
      "source": [
        "# @title 408. Valid Word Abbreviation\n",
        "# time:  O()\n",
        "# space: O()\n",
        "# Input: word = \"internationalization\", abbr = \"i12iz4n\"\n",
        "# Output: true\n",
        "\n",
        "def validWordAbbreviation(word: str, abbr: str) -> bool:\n",
        "    i = j = 0\n",
        "\n",
        "    while i < len(word) and j < len(abbr):\n",
        "        if abbr[j].isdigit():\n",
        "            if abbr[j] == \"0\":\n",
        "                return False\n",
        "\n",
        "            total = 0\n",
        "            while j < len(abbr) and abbr[j].isdigit():\n",
        "                total = total * 10 + int(abbr[j])\n",
        "                j += 1\n",
        "\n",
        "            i += total\n",
        "\n",
        "        else:\n",
        "            if word[i] != abbr[j]:\n",
        "                return False\n",
        "            i += 1\n",
        "            j += 1\n",
        "\n",
        "    return i == len(word) and j == len(abbr)\n",
        "\n",
        "validWordAbbreviation(\"internationalization\", \"i12iz4n\")"
      ],
      "metadata": {
        "colab": {
          "base_uri": "https://localhost:8080/"
        },
        "cellView": "form",
        "id": "CMeQpRUoGHX_",
        "outputId": "67854c30-33cd-47f0-8024-5607e5e7f290"
      },
      "execution_count": null,
      "outputs": [
        {
          "output_type": "execute_result",
          "data": {
            "text/plain": [
              "True"
            ]
          },
          "metadata": {},
          "execution_count": 9
        }
      ]
    },
    {
      "cell_type": "code",
      "source": [
        "# @title 227. Basic Calculator II <+-*/>\n",
        "# time:  O(n)\n",
        "# space: O(1)\n",
        "# Input: s = \" 3+5 / 2 \"  |  s = \" 1+3-2 \"\n",
        "# Output: 5               |      2\n",
        "def calculate(s: str) -> int:\n",
        "    result = 0\n",
        "    last_num = 0\n",
        "    curr = 0\n",
        "    n = len(s)\n",
        "    sign = \"+\"\n",
        "\n",
        "    for i, c in enumerate(s):\n",
        "        if c.isdigit():\n",
        "            curr = curr * 10 + int(c)\n",
        "\n",
        "        if c in \"+-*/\" or i == n - 1:\n",
        "            if sign == \"+\":\n",
        "                result += last_num\n",
        "                last_num = curr\n",
        "            elif sign == \"-\":\n",
        "                result += last_num\n",
        "                last_num = -curr\n",
        "            elif sign == \"*\":\n",
        "                last_num *= curr\n",
        "            elif sign == \"/\":\n",
        "                last_num = int(last_num / curr)\n",
        "\n",
        "            sign = c\n",
        "            curr = 0\n",
        "\n",
        "    result += last_num\n",
        "    return result\n",
        "\n",
        "calculate(\" 3+5 / 2 \")"
      ],
      "metadata": {
        "colab": {
          "base_uri": "https://localhost:8080/"
        },
        "id": "MIOhF_bQGXWd",
        "outputId": "b60bac96-4370-42af-fc51-5d885f1218bc"
      },
      "execution_count": null,
      "outputs": [
        {
          "output_type": "execute_result",
          "data": {
            "text/plain": [
              "5"
            ]
          },
          "metadata": {},
          "execution_count": 15
        }
      ]
    },
    {
      "cell_type": "code",
      "source": [
        "# @title 227. Basic Calculator II <()+-*/>\n",
        "# time:  O(N)\n",
        "# space: O(N)\n",
        "# Input: s = \" 3+5 / 2 \"  |  s = \" 1+3-2 \"\n",
        "# Output: 5               |      2\n",
        "def calculate(s: str) -> int:\n",
        "    def helper(s):\n",
        "        curr = 0\n",
        "        stack = []\n",
        "        sign = \"+\"\n",
        "\n",
        "        while len(s) > 0:\n",
        "            char = s.pop(0)\n",
        "            if char.isdigit():\n",
        "                curr = curr * 10 + int(char)\n",
        "            # Evaluate the sub-expression and store result in curr\n",
        "            elif char == \"(\":\n",
        "                curr = helper(s)\n",
        "\n",
        "            if char in \"+-*/)\" or len(s) == 0:\n",
        "                if sign == \"+\":\n",
        "                    stack.append(curr)\n",
        "                elif sign == \"-\":\n",
        "                    stack.append(-curr)\n",
        "                elif sign == \"*\":\n",
        "                    stack.append(stack.pop()*curr)\n",
        "                elif sign == \"/\":\n",
        "                    stack.append(int(stack.pop() / curr))\n",
        "\n",
        "                curr = 0\n",
        "                sign = char\n",
        "\n",
        "            if char == \")\": # End of sub-expression\n",
        "                break\n",
        "\n",
        "        return sum(stack)\n",
        "\n",
        "\n",
        "    return helper(list(s))\n",
        "\n",
        "\n",
        "calculate(\" 3+5 / (2 + 1) \")"
      ],
      "metadata": {
        "colab": {
          "base_uri": "https://localhost:8080/"
        },
        "cellView": "form",
        "id": "S0X8Ci7UGXyE",
        "outputId": "3224b894-956d-4d10-bb19-f4283d9c0cab"
      },
      "execution_count": null,
      "outputs": [
        {
          "output_type": "execute_result",
          "data": {
            "text/plain": [
              "4"
            ]
          },
          "metadata": {},
          "execution_count": 19
        }
      ]
    },
    {
      "cell_type": "code",
      "source": [
        "# @title 680. Valid Palindrome II\n",
        "# time:  O(N)\n",
        "# space: O(1)\n",
        "\n",
        "def validPalindrome(self, s: str) -> bool:\n",
        "    def check_palindrome(substr):\n",
        "        for i in range(len(substr) // 2):\n",
        "            if substr[i] != substr[~i]:\n",
        "                return False\n",
        "\n",
        "        return True\n",
        "\n",
        "    n = len(s)\n",
        "    l, r = 0, len(s)-1\n",
        "    while l < r:\n",
        "        if s[l] == s[r]:\n",
        "            l += 1\n",
        "            r -= 1\n",
        "        else:\n",
        "            return check_palindrome(s[l+1:r+1]) or check_palindrome(s[l:r])\n",
        "\n",
        "    return True"
      ],
      "metadata": {
        "cellView": "form",
        "id": "IgK80xDJGYRk"
      },
      "execution_count": null,
      "outputs": []
    },
    {
      "cell_type": "code",
      "source": [
        "# @title 215. Kth Largest Element in an Array - general\n",
        "\n",
        "# time:  avg-O(n); worst-O(n*n)\n",
        "# space: O(1)\n",
        "# target the element located at position (n - k)\n",
        "def findKthLargest(nums, k: int):\n",
        "    def partition(low, high, pivot_index):\n",
        "        pivot_element = nums[pivot_index]\n",
        "        nums[high], nums[pivot_index] = nums[pivot_index], nums[high]\n",
        "\n",
        "        i = low\n",
        "        for j in range(low, high):\n",
        "            if nums[j] < pivot_element:\n",
        "                nums[j], nums[i] = nums[i], nums[j]\n",
        "                i += 1\n",
        "\n",
        "        nums[i], nums[high] = nums[high], nums[i]\n",
        "        return i\n",
        "\n",
        "    def quickselect(low, high, kth_smallest):\n",
        "        if low == high:\n",
        "            return nums[low]\n",
        "\n",
        "        pivot_index = random.randint(low, high)\n",
        "        pivot_index = partition(low, high, pivot_index)\n",
        "\n",
        "        if pivot_index == kth_smallest:\n",
        "            return nums[kth_smallest]\n",
        "        elif kth_smallest < pivot_index:\n",
        "            return quickselect(low, pivot_index-1, kth_smallest)\n",
        "        else:\n",
        "            return quickselect(pivot_index+1, high, kth_smallest)\n",
        "\n",
        "    return quickselect(0, len(nums)-1, len(nums)-k)\n",
        "\n",
        "print(findKthLargest([3,2,1,5,6,4], 3))"
      ],
      "metadata": {
        "colab": {
          "base_uri": "https://localhost:8080/"
        },
        "cellView": "form",
        "id": "gcai60zqGYr6",
        "outputId": "682f946e-3e29-41f6-ff66-a141e6b1c1cf"
      },
      "execution_count": null,
      "outputs": [
        {
          "output_type": "stream",
          "name": "stdout",
          "text": [
            "4\n"
          ]
        }
      ]
    },
    {
      "cell_type": "code",
      "source": [
        "# @title 215. Kth Largest Element in an Array - three-way\n",
        "# time:  avg-O(n); worst-O(n*n)\n",
        "# space: O(1)\n",
        "# target the element located at position (n - k)\n",
        "def findKthLargest(nums, k) -> int:\n",
        "    def partition(low, high, pivot_index):\n",
        "        pivot_element = nums[pivot_index]\n",
        "        nums[high], nums[pivot_index] = nums[pivot_index], nums[high]\n",
        "\n",
        "        i  = low\n",
        "        lt = low\n",
        "        gt = high\n",
        "        while i <= gt:\n",
        "            if nums[i] < pivot_element:\n",
        "                nums[lt], nums[i] = nums[i], nums[lt]\n",
        "                i += 1\n",
        "                lt += 1\n",
        "            elif nums[i] > pivot_element:\n",
        "                nums[i], nums[gt] = nums[gt], nums[i]\n",
        "                gt -= 1\n",
        "            else:\n",
        "                i += 1\n",
        "\n",
        "        return lt, gt\n",
        "\n",
        "    def quickselect(low, high, kth_smallest):\n",
        "        if low == high:\n",
        "            return nums[low]\n",
        "\n",
        "        pivot_index = random.randint(low, high)\n",
        "        lt, gt = partition(low, high, pivot_index)\n",
        "\n",
        "        if kth_smallest < lt:\n",
        "            return quickselect(low, gt-1, kth_smallest)\n",
        "        elif gt < kth_smallest:\n",
        "            return quickselect(lt+1, high, kth_smallest)\n",
        "        else:\n",
        "            return nums[kth_smallest]\n",
        "\n",
        "\n",
        "    return quickselect(0, len(nums)-1, len(nums)-k)\n",
        "\n",
        "print(findKthLargest([3,2,1,5,6,4], 3))"
      ],
      "metadata": {
        "colab": {
          "base_uri": "https://localhost:8080/"
        },
        "cellView": "form",
        "id": "zqJGJx8zGZEn",
        "outputId": "668dfa2f-005d-428a-8054-c247b4eee1ca"
      },
      "execution_count": null,
      "outputs": [
        {
          "output_type": "stream",
          "name": "stdout",
          "text": [
            "4\n"
          ]
        }
      ]
    },
    {
      "cell_type": "code",
      "source": [
        "# @title 938. Range Sum of BST\n",
        "# time:  O(N)  for balanced tree: O(logN)\n",
        "# space: O(H)  for balanced tree: O(logN)\n",
        "def rangeSumBST_Recursive1(self, root, low: int, high: int) -> int:\n",
        "    if not root:\n",
        "        return 0\n",
        "\n",
        "    left = self.rangeSumBST(root.left, low, high)\n",
        "    right = self.rangeSumBST(root.right, low, high)\n",
        "\n",
        "    if low <= root.val <= high:\n",
        "        return root.val + left + right\n",
        "    elif root.val < low:\n",
        "        return right\n",
        "    else:\n",
        "        return left\n",
        "\n",
        "def rangeSumBST_Recursive2(root, low: int, high: int) -> int:\n",
        "    if not root:\n",
        "        return 0\n",
        "\n",
        "    if root.val > high:\n",
        "        return rangeSumBST_Recursive2(root.left, low, high)\n",
        "\n",
        "    elif root.val < low:\n",
        "        return rangeSumBST_Recursive2(root.right, low, high)\n",
        "\n",
        "    else:\n",
        "        return root.val + rangeSumBST_Recursive2(root.left, low, high) + rangeSumBST_Recursive2(root.right, low, high)\n",
        "\n",
        "def rangeSumBST_BFS(self, root, low: int, high: int) -> int:\n",
        "    if not root: return 0\n",
        "\n",
        "    q = deque([root])\n",
        "    total = 0\n",
        "\n",
        "    while q:\n",
        "        node = q.popleft()\n",
        "        if node:\n",
        "            if low <= node.val <= high:\n",
        "                total += node.val\n",
        "\n",
        "            if node.val > low and node.left:\n",
        "                q.append(node.left)\n",
        "\n",
        "            if node.val < high and node.right:\n",
        "                q.append(node.right)\n",
        "\n",
        "    return total"
      ],
      "metadata": {
        "cellView": "form",
        "id": "s1i6SSCWGZf_"
      },
      "execution_count": null,
      "outputs": []
    },
    {
      "cell_type": "code",
      "source": [
        "# @title 314. Binary Tree Vertical Order Traversal\n",
        "# time:  O(N)\n",
        "# space: O(N)\n",
        "\n",
        "def verticalOrder(root) -> List[List[int]]:\n",
        "    q = deque([(root, 0)])\n",
        "    result = defaultdict(list)\n",
        "\n",
        "    while q:\n",
        "        node, column = q.popleft()\n",
        "        if node:\n",
        "            result[column].append(node.val)\n",
        "\n",
        "            if node.left:\n",
        "                q.append([node.left, column - 1])\n",
        "            if node.right:\n",
        "                q.append([node.right, column + 1])\n",
        "\n",
        "    print(result)\n",
        "    return [result[key] for key in sorted(result)]"
      ],
      "metadata": {
        "cellView": "form",
        "id": "qXLXnO6HGZ4b"
      },
      "execution_count": null,
      "outputs": []
    },
    {
      "cell_type": "code",
      "source": [
        "# @title 339. Nested List Weight Sum\n",
        "# time:  O(N)\n",
        "# space: O(D)\n",
        "def depthSum_Recursive(nestedList) -> int:\n",
        "    def dfs(arr, depth):\n",
        "        total = 0\n",
        "        for element in arr:\n",
        "            if element.isInteger():\n",
        "                total += element.getInteger() * depth\n",
        "            else:\n",
        "                total += dfs(element.getList(), depth + 1)\n",
        "\n",
        "        return total\n",
        "\n",
        "    return dfs(nestedList, 1)\n",
        "\n",
        "def depthSum_Iterative(nestedList) -> int:\n",
        "    q = deque([(nestedList, 1)])\n",
        "    total = 0\n",
        "\n",
        "    while q:\n",
        "        curr_list, depth = q.popleft()\n",
        "        for element in curr_list:\n",
        "            if element.isInteger():\n",
        "                total += element.getInteger() * depth\n",
        "            else:\n",
        "                q.append((element.getList(), depth + 1))\n",
        "\n",
        "    return total\n",
        "\n",
        "depthSum_Iterative([1,[4,[6]]])\n"
      ],
      "metadata": {
        "cellView": "form",
        "id": "lK3OAwq5GabU"
      },
      "execution_count": null,
      "outputs": []
    },
    {
      "cell_type": "code",
      "source": [
        "# @title 1650. Lowest Common Ancestor of a Binary Tree III\n",
        "# time:  O(H)\n",
        "# space: O(1)\n",
        "def lowestCommonAncestor(p, q) -> 'Node':\n",
        "    a, b = p, q\n",
        "\n",
        "    while a != b:\n",
        "        a = a.parent if a.parent else q\n",
        "        b = b.parent if b.parent else p\n",
        "\n",
        "    return a"
      ],
      "metadata": {
        "cellView": "form",
        "id": "5srxRBUOGa1Y"
      },
      "execution_count": null,
      "outputs": []
    },
    {
      "cell_type": "code",
      "source": [
        "# @title 528. Random Pick with Weight\n",
        "# time:  O(N)\n",
        "# space: O(N)\n",
        "\n",
        "class Solution:\n",
        "    def __init__(self, w: list[int]):\n",
        "        # Create the prefix sum array manually\n",
        "        self.prefix_sums = []\n",
        "        prefix_sum = 0\n",
        "        for weight in w:\n",
        "            prefix_sum += weight\n",
        "            self.prefix_sums.append(prefix_sum)\n",
        "        self.total_sum = prefix_sum\n",
        "\n",
        "    def pickIndex(self) -> int:\n",
        "        # Generate a random number in the range [1, total_sum]\n",
        "        target = random.randint(1, self.total_sum)\n",
        "        # Use binary search to find the target in the prefix sums\n",
        "        low, high = 0, len(self.prefix_sums) - 1\n",
        "        while low < high:\n",
        "            mid = (low + high) // 2\n",
        "            if self.prefix_sums[mid] < target:\n",
        "                low = mid + 1\n",
        "            else:\n",
        "                high = mid\n",
        "        return low"
      ],
      "metadata": {
        "cellView": "form",
        "id": "gXSXQGVqGbO5"
      },
      "execution_count": null,
      "outputs": []
    },
    {
      "cell_type": "code",
      "source": [
        "# @title 1091. Shortest Path in Binary Matrix - length\n",
        "\n",
        "# @markdown **Remember** to mark the visited cells\n",
        "# @markdown\n",
        "\n",
        "# time:  O(N*N)\n",
        "# space: O(N*N)\n",
        "\n",
        "from collections import deque\n",
        "\n",
        "def shortestPathBinaryMatrix(grid):\n",
        "    n = len(grid)\n",
        "    # Check if the starting or ending cell is blocked\n",
        "    if grid[0][0] != 0 or grid[n-1][n-1] != 0:\n",
        "        return -1\n",
        "\n",
        "    # Directions for moving in 8 possible ways (including diagonals)\n",
        "    directions = [(-1, -1), (-1, 0), (-1, 1), (0, -1), (0, 1), (1, -1), (1, 0), (1, 1)]\n",
        "\n",
        "    # BFS initialization\n",
        "    queue = deque([(0, 0, 1)])  # (row, col, path_length)\n",
        "    grid[0][0] = 1  # Mark the starting cell as visited\n",
        "\n",
        "    while queue:\n",
        "        row, col, path_length = queue.popleft()\n",
        "        # If we have reached the bottom-right corner\n",
        "        if row == n - 1 and col == n - 1:\n",
        "            return path_length\n",
        "        # Explore all possible moves\n",
        "        for dr, dc in directions:\n",
        "            new_row, new_col = row + dr, col + dc\n",
        "            if 0 <= new_row < n and 0 <= new_col < n and grid[new_row][new_col] == 0:\n",
        "                queue.append((new_row, new_col, path_length + 1))\n",
        "                grid[new_row][new_col] = 1  # Mark the cell as visited\n",
        "\n",
        "    return -1  # If no path is found"
      ],
      "metadata": {
        "cellView": "form",
        "id": "aQvTF73wGeEa"
      },
      "execution_count": null,
      "outputs": []
    },
    {
      "cell_type": "code",
      "source": [
        "# @title 1091. Shortest Path in Binary Matrix - location\n",
        "# @markdown Deal with initial `{(0, 0): None}` using current_idx. Otherwise have error:\n",
        "# @markdown * `TypeError: cannot unpack non-iterable NoneType object`\n",
        "# time:  O(N*N)\n",
        "# space: O(N*N)\n",
        "\n",
        "from collections import deque\n",
        "\n",
        "def shortestPathBinaryMatrix(grid):\n",
        "    n = len(grid)\n",
        "    # Check if the starting or ending cell is blocked\n",
        "    if grid[0][0] != 0 or grid[n-1][n-1] != 0:\n",
        "        return -1\n",
        "\n",
        "    # Directions for moving in 8 possible ways (including diagonals)\n",
        "    directions = [(-1, -1), (-1, 0), (-1, 1), (0, -1), (0, 1), (1, -1), (1, 0), (1, 1)]\n",
        "\n",
        "    # BFS initialization\n",
        "    queue = deque([(0, 0)])  # (row, col, path_length)\n",
        "    grid[0][0] = 1  # Mark the starting cell as visited\n",
        "\n",
        "    parent = {(0, 0): None}\n",
        "\n",
        "    while queue:\n",
        "        row, col = queue.popleft()\n",
        "        # If we have reached the bottom-right corner\n",
        "        if row == n - 1 and col == n - 1:\n",
        "            path = []\n",
        "            curr_idx = (row, col)\n",
        "            while curr_idx is not None:\n",
        "                path.append(curr_idx)\n",
        "                curr_idx = parent[curr_idx]\n",
        "            return path[::-1]\n",
        "\n",
        "        # Explore all possible moves\n",
        "        for dr, dc in directions:\n",
        "            nr, nc = row + dr, col + dc\n",
        "            if 0 <= nr < n and 0 <= nc < n and grid[nr][nc] == 0:\n",
        "                queue.append((nr, nc))\n",
        "                grid[nr][nc] = 1  # Mark the cell as visited\n",
        "                parent[(nr, nc)] = (row, col)\n",
        "\n",
        "    return -1  # If no path is found\n",
        "\n",
        "shortestPathBinaryMatrix([[0,0,0],[1,1,0],[1,1,0]])"
      ],
      "metadata": {
        "id": "80fTKrjCGd-p",
        "colab": {
          "base_uri": "https://localhost:8080/"
        },
        "cellView": "form",
        "outputId": "7e37aed1-50d0-4961-c4c9-38ef66ee7b4e"
      },
      "execution_count": null,
      "outputs": [
        {
          "output_type": "execute_result",
          "data": {
            "text/plain": [
              "[(0, 0), (0, 1), (1, 2), (2, 2)]"
            ]
          },
          "metadata": {},
          "execution_count": 16
        }
      ]
    },
    {
      "cell_type": "code",
      "source": [
        "# @title 88. Merge Sorted Array\n",
        "# @markdown three pointers: **from end to start**\n",
        "# time:  O(m+n)\n",
        "# space: O(1)\n",
        "\n",
        "def merge(nums1: List[int], m: int, nums2: List[int], n: int) -> None:\n",
        "    \"\"\"\n",
        "    Do not return anything, modify nums1 in-place instead.\n",
        "    \"\"\"\n",
        "\n",
        "    i = m - 1\n",
        "    j = n - 1\n",
        "    k = m + n - 1\n",
        "\n",
        "    while j >= 0:\n",
        "        if i >= 0 and nums1[i] > nums2[j]:\n",
        "            nums1[k] = nums1[i]\n",
        "            i -= 1\n",
        "        else:\n",
        "            nums1[k] = nums2[j]\n",
        "            j -= 1\n",
        "\n",
        "        k -= 1"
      ],
      "metadata": {
        "id": "OVFHFU_fGd5A",
        "cellView": "form"
      },
      "execution_count": null,
      "outputs": []
    },
    {
      "cell_type": "code",
      "source": [
        "# @title 71. Simplify Path\n",
        "# @markdown * `\"..\"` is the only actionable chars\n",
        "\n",
        "# @markdown * `\".\"` needs to be deleted; redundant `\"/\"` need to be deleted\n",
        "# time:  O(N)\n",
        "# space: O(N)\n",
        "def simplifyPath(path: str) -> str:\n",
        "    stack = []\n",
        "    components = path.split(\"/\")\n",
        "\n",
        "    for c in components:\n",
        "        if c == \"..\":\n",
        "            if stack:\n",
        "                stack.pop()\n",
        "\n",
        "        elif c and c != \".\":\n",
        "            stack.append(c)\n",
        "\n",
        "    return \"/\" + \"/\".join(stack)"
      ],
      "metadata": {
        "id": "NndEuWqjGdzt",
        "cellView": "form"
      },
      "execution_count": null,
      "outputs": []
    },
    {
      "cell_type": "code",
      "source": [
        "# @title 199. Binary Tree Right Side View\n",
        "# time:  O(N)\n",
        "# space: O(N)\n",
        "def rightSideView(root) -> List[int]:\n",
        "    if not root: return []\n",
        "    q = deque([root])\n",
        "    result = []\n",
        "\n",
        "    while q:\n",
        "        n = len(q)\n",
        "        for i in range(n):\n",
        "            node = q.popleft()\n",
        "\n",
        "            if i == n - 1:\n",
        "                result.append(node.val)\n",
        "\n",
        "            if node.left:\n",
        "                q.append(node.left)\n",
        "            if node.right:\n",
        "                q.append(node.right)\n",
        "\n",
        "    return result"
      ],
      "metadata": {
        "id": "YVIbLvRmGduy",
        "cellView": "form"
      },
      "execution_count": null,
      "outputs": []
    },
    {
      "cell_type": "code",
      "source": [
        "# @title 162. Find Peak Element\n",
        "#  find a peak element, and return its index\n",
        "# time:  O(logN)\n",
        "# space: O(1)\n",
        "def findPeakElement(nums: List[int]) -> int:\n",
        "    l, r = 0, len(nums) - 1\n",
        "\n",
        "    while l < r:\n",
        "        mid = (r-l) // 2 + l\n",
        "\n",
        "        if nums[mid] > nums[mid+1]:\n",
        "            r = mid\n",
        "        else:\n",
        "            l = mid + 1\n",
        "\n",
        "    return l\n",
        "\n",
        "findPeakElement([1,2,3,4,2])"
      ],
      "metadata": {
        "id": "HBF90kL4Gdo0",
        "cellView": "form"
      },
      "execution_count": null,
      "outputs": []
    },
    {
      "cell_type": "code",
      "source": [
        "# @title 138. Copy List with Random Pointer\n",
        "# time:  O(N)\n",
        "# space: O(1)\n",
        "class Node:\n",
        "    def __init__(self, x: int, next: 'Node' = None, random: 'Node' = None):\n",
        "        self.val = int(x)\n",
        "        self.next = next\n",
        "        self.random = random\n",
        "\n",
        "def copyRandomList(head):\n",
        "    if not head: return head\n",
        "\n",
        "    # pass one: create next pointer\n",
        "    curr = head\n",
        "    while curr:\n",
        "        new_node = Node(curr.val, curr.next)\n",
        "        curr.next = new_node\n",
        "        curr = new_node.next\n",
        "\n",
        "    # pass two: create random\n",
        "    curr = head\n",
        "    while curr:\n",
        "        if curr.random:\n",
        "            curr.next.random = curr.random.next\n",
        "        curr = curr.next.next\n",
        "\n",
        "    # get copied linked list\n",
        "    dummy = Node(0)\n",
        "    copy = dummy\n",
        "    origin = head\n",
        "    while origin:\n",
        "        copy.next = origin.next\n",
        "        copy = copy.next\n",
        "\n",
        "        origin = origin.next.next\n",
        "\n",
        "    return dummy.next"
      ],
      "metadata": {
        "id": "wB_8yCDDGdii",
        "cellView": "form"
      },
      "execution_count": null,
      "outputs": []
    },
    {
      "cell_type": "code",
      "source": [
        "# @title 426. Convert Binary Search Tree to Sorted Doubly Linked List\n",
        "# @markdown Line `29` and `30` is tricky\n",
        "# @markdown\n",
        "# @markdown You can use `self.first` or `self.last` to avoid `nonlocal`\n",
        "# time:  O(N)\n",
        "# space: O(H) <- recusion height of the tree\n",
        "class Node:\n",
        "    def __init__(self, val=0, left=None, right=None):\n",
        "        self.val = val\n",
        "        self.left = left\n",
        "        self.right = right\n",
        "\n",
        "def treeToDoublyList(root):\n",
        "    if not root:\n",
        "        return None\n",
        "\n",
        "    # Variables to keep track of the head and the previous node in the in-order traversal\n",
        "    first = None\n",
        "    last = None\n",
        "\n",
        "    # Helper function to perform the in-order traversal and create the doubly linked list\n",
        "    def inorder(node):\n",
        "        nonlocal first, last\n",
        "        if node:\n",
        "            # Recursively go left\n",
        "            inorder(node.left)\n",
        "\n",
        "            # If last node is not set, we're at the leftmost node (smallest node)\n",
        "            if last:\n",
        "                # Link the previous node (last) with the current one (node)\n",
        "                last.right = node\n",
        "                node.left = last\n",
        "            else:\n",
        "                # If this is the first node, set it as the head\n",
        "                first = node\n",
        "\n",
        "            # Update the last node to the current node\n",
        "            last = node\n",
        "\n",
        "            # Recursively go right\n",
        "            inorder(node.right)\n",
        "\n",
        "    # Perform the in-order traversal\n",
        "    inorder(root)\n",
        "\n",
        "    # No circular linking\n",
        "    first.left = last\n",
        "    last.right = first\n",
        "\n",
        "    return first"
      ],
      "metadata": {
        "id": "w63Sv5JqGddU",
        "cellView": "form"
      },
      "execution_count": null,
      "outputs": []
    },
    {
      "cell_type": "code",
      "source": [
        "# @title 236. Lowest Common Ancestor of a Binary Tree\n",
        "# time:  O(N)\n",
        "# space: O(H)\n",
        "def lowestCommonAncestor(self, root, p, q):\n",
        "    if not root or p == root or q == root:\n",
        "        return root\n",
        "\n",
        "    left = self.lowestCommonAncestor(root.left, p, q)\n",
        "    right = self.lowestCommonAncestor(root.right, p, q)\n",
        "\n",
        "    if left and right:\n",
        "        return root\n",
        "\n",
        "    return left if left else right\n",
        "\n",
        "# time:  O(N)\n",
        "# space: O(N)\n",
        "def lowestCommonAncestor(self, root, p, q):\n",
        "    stack = [root]\n",
        "    parent = {root: None}\n",
        "\n",
        "    while p not in parent or q not in parent:\n",
        "        node = stack.pop()\n",
        "        if node.left:\n",
        "            parent[node.left] = node\n",
        "            stack.append(node.left)\n",
        "        if node.right:\n",
        "            parent[node.right] = node\n",
        "            stack.append(node.right)\n",
        "\n",
        "    # ancestors for node p\n",
        "    ancestors = set()\n",
        "    while p:\n",
        "        ancestors.add(p)\n",
        "        p = parent[p]\n",
        "\n",
        "    while q not in ancestors:\n",
        "        q = parent[q]\n",
        "\n",
        "    return q"
      ],
      "metadata": {
        "id": "Houm2e7uGdYH",
        "cellView": "form"
      },
      "execution_count": null,
      "outputs": []
    },
    {
      "cell_type": "code",
      "source": [
        "# time:  O()\n",
        "# space: O()"
      ],
      "metadata": {
        "id": "AEBsX0wkGdTZ"
      },
      "execution_count": null,
      "outputs": []
    },
    {
      "cell_type": "code",
      "source": [
        "# time:  O()\n",
        "# space: O()"
      ],
      "metadata": {
        "id": "UIPn89nDGdNb"
      },
      "execution_count": null,
      "outputs": []
    },
    {
      "cell_type": "code",
      "source": [
        "# time:  O()\n",
        "# space: O()"
      ],
      "metadata": {
        "id": "HBZEz5iZGdH8"
      },
      "execution_count": null,
      "outputs": []
    },
    {
      "cell_type": "code",
      "source": [
        "# time:  O()\n",
        "# space: O()"
      ],
      "metadata": {
        "id": "jOsIiPJLGdB-"
      },
      "execution_count": null,
      "outputs": []
    },
    {
      "cell_type": "code",
      "source": [
        "# time:  O()\n",
        "# space: O()"
      ],
      "metadata": {
        "id": "3j-TwU-VGc8S"
      },
      "execution_count": null,
      "outputs": []
    },
    {
      "cell_type": "code",
      "source": [
        "# time:  O()\n",
        "# space: O()"
      ],
      "metadata": {
        "id": "XpQ7F8mSGc2O"
      },
      "execution_count": null,
      "outputs": []
    },
    {
      "cell_type": "code",
      "source": [
        "# time:  O()\n",
        "# space: O()"
      ],
      "metadata": {
        "id": "adU8Gb34Gcxj"
      },
      "execution_count": null,
      "outputs": []
    },
    {
      "cell_type": "code",
      "source": [
        "# time:  O()\n",
        "# space: O()"
      ],
      "metadata": {
        "id": "Z2C8Z1gxGcs4"
      },
      "execution_count": null,
      "outputs": []
    },
    {
      "cell_type": "code",
      "source": [
        "# time:  O()\n",
        "# space: O()"
      ],
      "metadata": {
        "id": "9GN3BpukGcn9"
      },
      "execution_count": null,
      "outputs": []
    },
    {
      "cell_type": "code",
      "source": [
        "# time:  O()\n",
        "# space: O()"
      ],
      "metadata": {
        "id": "4pDyw-PSGciN"
      },
      "execution_count": null,
      "outputs": []
    },
    {
      "cell_type": "code",
      "source": [
        "# time:  O()\n",
        "# space: O()"
      ],
      "metadata": {
        "id": "1C-Wg_xTGcaZ"
      },
      "execution_count": null,
      "outputs": []
    },
    {
      "cell_type": "code",
      "source": [
        "# time:  O()\n",
        "# space: O()"
      ],
      "metadata": {
        "id": "aXBB9qE7GcJe"
      },
      "execution_count": null,
      "outputs": []
    },
    {
      "cell_type": "code",
      "source": [
        "\n",
        "# time:  O()\n",
        "# space: O()\n"
      ],
      "metadata": {
        "id": "hL4_EjrQGbsU"
      },
      "execution_count": null,
      "outputs": []
    }
  ]
}