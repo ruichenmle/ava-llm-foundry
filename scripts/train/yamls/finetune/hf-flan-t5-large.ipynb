{
 "cells": [
  {
   "cell_type": "code",
   "execution_count": 1,
   "id": "3bdf008d",
   "metadata": {
    "tags": []
   },
   "outputs": [],
   "source": [
    "%%capture\n",
    "!pip install datasets\n",
    "!pip install transformers"
   ]
  },
  {
   "cell_type": "code",
   "execution_count": 2,
   "id": "1f7787cc",
   "metadata": {
    "tags": []
   },
   "outputs": [],
   "source": [
    "# !pwd \n",
    "# !cd /home/ec2-user/SageMaker\n",
    "# !rm -r model/checkpoints/*\n",
    "# !rm -r cache_downloaded/*\n",
    "# !ls\n",
    "\n",
    "# !cd /home/ec2-user/SageMaker/model\n"
   ]
  },
  {
   "cell_type": "code",
   "execution_count": 3,
   "id": "d7cec90e",
   "metadata": {
    "tags": []
   },
   "outputs": [],
   "source": [
    "# import csv\n",
    "# with open('data/test_imbalanced.csv') as r:\n",
    "#     reader = csv.reader(r)\n",
    "#     next(reader)\n",
    "#     i=0\n",
    "#     for cols in reader:\n",
    "#         print(cols)\n",
    "#         i +=1\n",
    "#         if i>5:\n",
    "#             break"
   ]
  },
  {
   "cell_type": "code",
   "execution_count": 1,
   "id": "720cb65e",
   "metadata": {
    "tags": []
   },
   "outputs": [
    {
     "name": "stderr",
     "output_type": "stream",
     "text": [
      "/tmp/ipykernel_31789/3459857794.py:11: TqdmExperimentalWarning: Using `tqdm.autonotebook.tqdm` in notebook mode. Use `tqdm.tqdm` instead to force console mode (e.g. in jupyter console)\n",
      "  from tqdm.autonotebook import tqdm\n"
     ]
    }
   ],
   "source": [
    "import pandas as pd\n",
    "import numpy as np\n",
    "import string\n",
    "import requests\n",
    "import re, json\n",
    "import os\n",
    "os.environ['TRANSFORMERS_CACHE'] = \"./huggingface_model_cache/\" \n",
    "os.environ[\"MODEL_DIR\"] = './nlpaug_model_cache/'\n",
    "os.environ['HF_DATASETS_CACHE'] = '../huggingface_dataset_cache/'\n",
    "\n",
    "from tqdm.autonotebook import tqdm\n",
    "tqdm.pandas()\n",
    "\n",
    "import matplotlib.pyplot as plt\n",
    "from datasets import load_dataset\n",
    "from sklearn.model_selection import train_test_split\n",
    "from sklearn.metrics import precision_recall_fscore_support, classification_report\n",
    "from sklearn.metrics import accuracy_score, recall_score, precision_score, f1_score\n",
    "\n",
    "from torch.utils.data import DataLoader"
   ]
  },
  {
   "cell_type": "code",
   "execution_count": 2,
   "id": "a6f25da1",
   "metadata": {
    "tags": []
   },
   "outputs": [],
   "source": [
    "from transformers import AutoTokenizer, DataCollatorWithPadding\n",
    "from transformers import AutoConfig, AutoModelForSequenceClassification, T5ForConditionalGeneration\n",
    "from transformers import TrainingArguments, Trainer, logging\n",
    "from datasets import load_dataset, Dataset, ClassLabel, DatasetDict\n",
    "from pprint import pprint\n",
    "\n",
    "logging.set_verbosity_error()\n",
    "\n",
    "model_ckpt = \"google/flan-t5-large\"\n",
    "tokenizer = AutoTokenizer.from_pretrained(model_ckpt, model_max_length=512)"
   ]
  },
  {
   "cell_type": "markdown",
   "id": "aeedadad",
   "metadata": {},
   "source": [
    "## dataset"
   ]
  },
  {
   "cell_type": "code",
   "execution_count": 6,
   "id": "1d2fcedc",
   "metadata": {
    "tags": []
   },
   "outputs": [
    {
     "data": {
      "text/plain": [
       "DatasetDict({\n",
       "    train: Dataset({\n",
       "        features: ['input', 'output'],\n",
       "        num_rows: 478\n",
       "    })\n",
       "    dev: Dataset({\n",
       "        features: ['input', 'output'],\n",
       "        num_rows: 54\n",
       "    })\n",
       "    test: Dataset({\n",
       "        features: ['input', 'output'],\n",
       "        num_rows: 100\n",
       "    })\n",
       "})"
      ]
     },
     "execution_count": 6,
     "metadata": {},
     "output_type": "execute_result"
    }
   ],
   "source": [
    "# balanced dataset\n",
    "# dataset = load_dataset(\"csv\", data_files={\"train\": \"./data/train.csv\", \"test\": \"./data/test.csv\"})\n",
    "\n",
    "# imbalanced dataset\n",
    "# dataset = load_dataset(\"csv\", data_files={\"train\": \"./data/train_imbalanced.csv\", \"test\": \"./data/test_imbalanced.csv\"})\n",
    "# dataset, dataset['train'].features\n",
    "\n",
    "# update imbalanced dataset\n",
    "data_files = {\n",
    "    \"train\": \"../sut-data/train.tsv\", \n",
    "    \"validation\": \"../sut-data/dev.tsv\",  \n",
    "    \"test\": \"../sut-data/test.tsv\",\n",
    "}\n",
    "\n",
    "path = \"../sut-data/\"\n",
    "\n",
    "file_spec = {f: pd.read_csv(f\"{path}{f}.tsv\", sep='\\t', usecols=[2, 3]) for f in ('train', 'dev', 'test')} \n",
    "        \n",
    "# data should be of str format  todo\n",
    "file_spec = {f: file_spec[f].applymap(str) for f in ('train', 'dev', 'test')}\n",
    "\n",
    "# file_spec \n",
    "ds = DatasetDict()\n",
    "train_ds = Dataset.from_pandas(file_spec['train'], split=\"train\")\n",
    "dev_ds = Dataset.from_pandas(file_spec['dev'], split=\"dev\")\n",
    "test_ds = Dataset.from_pandas(file_spec['test'], split=\"test\")\n",
    "\n",
    "ds['train'] = train_ds\n",
    "ds['dev'] = dev_ds\n",
    "ds['test'] = test_ds\n",
    "\n",
    "ds"
   ]
  },
  {
   "cell_type": "code",
   "execution_count": null,
   "id": "095a146a-e51b-467c-a40c-ae251993bd22",
   "metadata": {
    "tags": []
   },
   "outputs": [],
   "source": []
  },
  {
   "cell_type": "markdown",
   "id": "03f5be41",
   "metadata": {},
   "source": [
    "## Tokenize"
   ]
  },
  {
   "cell_type": "code",
   "execution_count": 7,
   "id": "53a4f0a8-d12f-4cd0-a843-56c2d3ba3d9e",
   "metadata": {
    "tags": []
   },
   "outputs": [
    {
     "data": {
      "text/plain": [
       "T5TokenizerFast(name_or_path='google/flan-t5-large', vocab_size=32100, model_max_length=512, is_fast=True, padding_side='right', truncation_side='right', special_tokens={'eos_token': '</s>', 'unk_token': '<unk>', 'pad_token': '<pad>', 'additional_special_tokens': ['<extra_id_0>', '<extra_id_1>', '<extra_id_2>', '<extra_id_3>', '<extra_id_4>', '<extra_id_5>', '<extra_id_6>', '<extra_id_7>', '<extra_id_8>', '<extra_id_9>', '<extra_id_10>', '<extra_id_11>', '<extra_id_12>', '<extra_id_13>', '<extra_id_14>', '<extra_id_15>', '<extra_id_16>', '<extra_id_17>', '<extra_id_18>', '<extra_id_19>', '<extra_id_20>', '<extra_id_21>', '<extra_id_22>', '<extra_id_23>', '<extra_id_24>', '<extra_id_25>', '<extra_id_26>', '<extra_id_27>', '<extra_id_28>', '<extra_id_29>', '<extra_id_30>', '<extra_id_31>', '<extra_id_32>', '<extra_id_33>', '<extra_id_34>', '<extra_id_35>', '<extra_id_36>', '<extra_id_37>', '<extra_id_38>', '<extra_id_39>', '<extra_id_40>', '<extra_id_41>', '<extra_id_42>', '<extra_id_43>', '<extra_id_44>', '<extra_id_45>', '<extra_id_46>', '<extra_id_47>', '<extra_id_48>', '<extra_id_49>', '<extra_id_50>', '<extra_id_51>', '<extra_id_52>', '<extra_id_53>', '<extra_id_54>', '<extra_id_55>', '<extra_id_56>', '<extra_id_57>', '<extra_id_58>', '<extra_id_59>', '<extra_id_60>', '<extra_id_61>', '<extra_id_62>', '<extra_id_63>', '<extra_id_64>', '<extra_id_65>', '<extra_id_66>', '<extra_id_67>', '<extra_id_68>', '<extra_id_69>', '<extra_id_70>', '<extra_id_71>', '<extra_id_72>', '<extra_id_73>', '<extra_id_74>', '<extra_id_75>', '<extra_id_76>', '<extra_id_77>', '<extra_id_78>', '<extra_id_79>', '<extra_id_80>', '<extra_id_81>', '<extra_id_82>', '<extra_id_83>', '<extra_id_84>', '<extra_id_85>', '<extra_id_86>', '<extra_id_87>', '<extra_id_88>', '<extra_id_89>', '<extra_id_90>', '<extra_id_91>', '<extra_id_92>', '<extra_id_93>', '<extra_id_94>', '<extra_id_95>', '<extra_id_96>', '<extra_id_97>', '<extra_id_98>', '<extra_id_99>']}, clean_up_tokenization_spaces=True)"
      ]
     },
     "execution_count": 7,
     "metadata": {},
     "output_type": "execute_result"
    }
   ],
   "source": [
    "tokenizer"
   ]
  },
  {
   "cell_type": "code",
   "execution_count": 8,
   "id": "a1953c51",
   "metadata": {
    "tags": []
   },
   "outputs": [
    {
     "data": {
      "application/vnd.jupyter.widget-view+json": {
       "model_id": "3d4183da368d4206889122e8978cd57e",
       "version_major": 2,
       "version_minor": 0
      },
      "text/plain": [
       "Map:   0%|          | 0/478 [00:00<?, ? examples/s]"
      ]
     },
     "metadata": {},
     "output_type": "display_data"
    },
    {
     "data": {
      "application/vnd.jupyter.widget-view+json": {
       "model_id": "ed313e47caba442ea3dbd83d814d2042",
       "version_major": 2,
       "version_minor": 0
      },
      "text/plain": [
       "Map:   0%|          | 0/54 [00:00<?, ? examples/s]"
      ]
     },
     "metadata": {},
     "output_type": "display_data"
    },
    {
     "data": {
      "application/vnd.jupyter.widget-view+json": {
       "model_id": "852efc9bd09d49cdb49b426c0206f5bd",
       "version_major": 2,
       "version_minor": 0
      },
      "text/plain": [
       "Map:   0%|          | 0/100 [00:00<?, ? examples/s]"
      ]
     },
     "metadata": {},
     "output_type": "display_data"
    },
    {
     "data": {
      "text/plain": [
       "{'input_ids': Sequence(feature=Value(dtype='int32', id=None), length=-1, id=None),\n",
       " 'attention_mask': Sequence(feature=Value(dtype='int8', id=None), length=-1, id=None),\n",
       " 'labels': Sequence(feature=Value(dtype='int64', id=None), length=-1, id=None)}"
      ]
     },
     "execution_count": 8,
     "metadata": {},
     "output_type": "execute_result"
    }
   ],
   "source": [
    "sut_dataset = ds\n",
    "\n",
    "def tokenize_function(example):\n",
    "    prompt = \"generate templates: \" + example['input']\n",
    "    response = str(example[\"output\"])\n",
    "\n",
    "    return tokenizer(text=prompt, text_target=response, padding=\"max_length\", truncation=True)\n",
    "\n",
    "\n",
    "columns_to_remove = list(sut_dataset['train'][0].keys())\n",
    "tokenized_datasets = sut_dataset.map(tokenize_function, remove_columns=columns_to_remove, batched=False)\n",
    "tokenized_datasets['train'].features"
   ]
  },
  {
   "cell_type": "code",
   "execution_count": 9,
   "id": "4c8389bb",
   "metadata": {
    "tags": []
   },
   "outputs": [
    {
     "data": {
      "text/plain": [
       "DatasetDict({\n",
       "    train: Dataset({\n",
       "        features: ['input_ids', 'attention_mask', 'labels'],\n",
       "        num_rows: 478\n",
       "    })\n",
       "    dev: Dataset({\n",
       "        features: ['input_ids', 'attention_mask', 'labels'],\n",
       "        num_rows: 54\n",
       "    })\n",
       "    test: Dataset({\n",
       "        features: ['input_ids', 'attention_mask', 'labels'],\n",
       "        num_rows: 100\n",
       "    })\n",
       "})"
      ]
     },
     "execution_count": 9,
     "metadata": {},
     "output_type": "execute_result"
    }
   ],
   "source": [
    "tokenized_datasets"
   ]
  },
  {
   "cell_type": "code",
   "execution_count": 10,
   "id": "8bfbaa99",
   "metadata": {
    "tags": []
   },
   "outputs": [],
   "source": [
    "dataset = tokenized_datasets"
   ]
  },
  {
   "cell_type": "code",
   "execution_count": 11,
   "id": "8c2b4483",
   "metadata": {
    "tags": []
   },
   "outputs": [],
   "source": [
    "from transformers import EarlyStoppingCallback\n",
    "from transformers import set_seed\n",
    "\n",
    "seed = 42\n",
    "set_seed(seed)\n",
    "\n",
    "model = T5ForConditionalGeneration.from_pretrained(model_ckpt)\n",
    "\n",
    "\n",
    "\n",
    "batch_size = 1\n",
    "epochs = 10\n",
    "logging_steps = len(dataset[\"train\"]) // batch_size\n",
    "training_args = TrainingArguments(output_dir=\"./trainer/checkpoints/\", \n",
    "                                  evaluation_strategy='epoch',\n",
    "                                  save_strategy='epoch',\n",
    "                                  logging_strategy='epoch',\n",
    "                                  learning_rate=1e-5,\n",
    "                                  weight_decay=0.01,\n",
    "                                  num_train_epochs = epochs,\n",
    "                                  per_device_train_batch_size=batch_size,\n",
    "                                  per_device_eval_batch_size=batch_size*2,\n",
    "                                  seed=0,\n",
    "                                  save_total_limit = 1,\n",
    "                                  load_best_model_at_end=True, # load the best model found during training at the end of training.\n",
    "                                  logging_steps=logging_steps,\n",
    "                                #   log_level=\"debug\",\n",
    "                                  )\n",
    "\n",
    "trainer = Trainer(model=model, \n",
    "                  args=training_args, \n",
    "                  train_dataset=dataset['train'],\n",
    "                  eval_dataset=dataset['dev'],\n",
    "                  callbacks=[EarlyStoppingCallback(early_stopping_patience=5)]\n",
    "                  )"
   ]
  },
  {
   "cell_type": "code",
   "execution_count": 12,
   "id": "fba5cc9e",
   "metadata": {
    "tags": []
   },
   "outputs": [
    {
     "name": "stderr",
     "output_type": "stream",
     "text": [
      "/home/ec2-user/anaconda3/envs/pytorch_p310/lib/python3.10/site-packages/transformers/optimization.py:411: FutureWarning: This implementation of AdamW is deprecated and will be removed in a future version. Use the PyTorch implementation torch.optim.AdamW instead, or set `no_deprecation_warning=True` to disable this warning\n",
      "  warnings.warn(\n",
      "Failed to detect the name of this notebook, you can set it manually with the WANDB_NOTEBOOK_NAME environment variable to enable code saving.\n",
      "\u001b[34m\u001b[1mwandb\u001b[0m: Currently logged in as: \u001b[33mmlnlp\u001b[0m. Use \u001b[1m`wandb login --relogin`\u001b[0m to force relogin\n"
     ]
    },
    {
     "data": {
      "text/html": [
       "Tracking run with wandb version 0.15.8"
      ],
      "text/plain": [
       "<IPython.core.display.HTML object>"
      ]
     },
     "metadata": {},
     "output_type": "display_data"
    },
    {
     "data": {
      "text/html": [
       "Run data is saved locally in <code>/home/ec2-user/SageMaker/flan-t5-large/wandb/run-20230822_231357-u8qq3gj5</code>"
      ],
      "text/plain": [
       "<IPython.core.display.HTML object>"
      ]
     },
     "metadata": {},
     "output_type": "display_data"
    },
    {
     "data": {
      "text/html": [
       "Syncing run <strong><a href='https://wandb.ai/mlnlp/huggingface/runs/u8qq3gj5' target=\"_blank\">generous-eon-10</a></strong> to <a href='https://wandb.ai/mlnlp/huggingface' target=\"_blank\">Weights & Biases</a> (<a href='https://wandb.me/run' target=\"_blank\">docs</a>)<br/>"
      ],
      "text/plain": [
       "<IPython.core.display.HTML object>"
      ]
     },
     "metadata": {},
     "output_type": "display_data"
    },
    {
     "data": {
      "text/html": [
       " View project at <a href='https://wandb.ai/mlnlp/huggingface' target=\"_blank\">https://wandb.ai/mlnlp/huggingface</a>"
      ],
      "text/plain": [
       "<IPython.core.display.HTML object>"
      ]
     },
     "metadata": {},
     "output_type": "display_data"
    },
    {
     "data": {
      "text/html": [
       " View run at <a href='https://wandb.ai/mlnlp/huggingface/runs/u8qq3gj5' target=\"_blank\">https://wandb.ai/mlnlp/huggingface/runs/u8qq3gj5</a>"
      ],
      "text/plain": [
       "<IPython.core.display.HTML object>"
      ]
     },
     "metadata": {},
     "output_type": "display_data"
    },
    {
     "name": "stdout",
     "output_type": "stream",
     "text": [
      "{'loss': 9.5404, 'learning_rate': 9e-06, 'epoch': 1.0}\n",
      "{'eval_loss': 1.3096983432769775, 'eval_runtime': 5.3976, 'eval_samples_per_second': 10.005, 'eval_steps_per_second': 5.002, 'epoch': 1.0}\n",
      "{'loss': 0.4478, 'learning_rate': 8.000000000000001e-06, 'epoch': 2.0}\n",
      "{'eval_loss': 0.1110667809844017, 'eval_runtime': 5.3962, 'eval_samples_per_second': 10.007, 'eval_steps_per_second': 5.004, 'epoch': 2.0}\n",
      "{'loss': 0.1341, 'learning_rate': 7e-06, 'epoch': 3.0}\n",
      "{'eval_loss': 0.08349412679672241, 'eval_runtime': 5.4011, 'eval_samples_per_second': 9.998, 'eval_steps_per_second': 4.999, 'epoch': 3.0}\n",
      "{'loss': 0.1081, 'learning_rate': 6e-06, 'epoch': 4.0}\n",
      "{'eval_loss': 0.07359080016613007, 'eval_runtime': 5.4009, 'eval_samples_per_second': 9.998, 'eval_steps_per_second': 4.999, 'epoch': 4.0}\n",
      "{'loss': 0.0965, 'learning_rate': 5e-06, 'epoch': 5.0}\n",
      "{'eval_loss': 0.06930919736623764, 'eval_runtime': 5.403, 'eval_samples_per_second': 9.995, 'eval_steps_per_second': 4.997, 'epoch': 5.0}\n",
      "{'loss': 0.0904, 'learning_rate': 4.000000000000001e-06, 'epoch': 6.0}\n",
      "{'eval_loss': 0.06594192236661911, 'eval_runtime': 5.3972, 'eval_samples_per_second': 10.005, 'eval_steps_per_second': 5.003, 'epoch': 6.0}\n",
      "{'loss': 0.0846, 'learning_rate': 3e-06, 'epoch': 7.0}\n",
      "{'eval_loss': 0.0644531175494194, 'eval_runtime': 5.4027, 'eval_samples_per_second': 9.995, 'eval_steps_per_second': 4.998, 'epoch': 7.0}\n",
      "{'loss': 0.0819, 'learning_rate': 2.0000000000000003e-06, 'epoch': 8.0}\n",
      "{'eval_loss': 0.06334294378757477, 'eval_runtime': 5.3996, 'eval_samples_per_second': 10.001, 'eval_steps_per_second': 5.0, 'epoch': 8.0}\n",
      "{'loss': 0.0792, 'learning_rate': 1.0000000000000002e-06, 'epoch': 9.0}\n",
      "{'eval_loss': 0.06263255327939987, 'eval_runtime': 5.3644, 'eval_samples_per_second': 10.066, 'eval_steps_per_second': 5.033, 'epoch': 9.0}\n",
      "{'loss': 0.078, 'learning_rate': 0.0, 'epoch': 10.0}\n",
      "{'eval_loss': 0.062271423637866974, 'eval_runtime': 5.3944, 'eval_samples_per_second': 10.01, 'eval_steps_per_second': 5.005, 'epoch': 10.0}\n",
      "{'train_runtime': 2251.6566, 'train_samples_per_second': 2.123, 'train_steps_per_second': 2.123, 'train_loss': 1.0740991121555472, 'epoch': 10.0}\n"
     ]
    },
    {
     "data": {
      "text/plain": [
       "TrainOutput(global_step=4780, training_loss=1.0740991121555472, metrics={'train_runtime': 2251.6566, 'train_samples_per_second': 2.123, 'train_steps_per_second': 2.123, 'train_loss': 1.0740991121555472, 'epoch': 10.0})"
      ]
     },
     "execution_count": 12,
     "metadata": {},
     "output_type": "execute_result"
    }
   ],
   "source": [
    "trainer.train()"
   ]
  },
  {
   "cell_type": "markdown",
   "id": "3418def8",
   "metadata": {},
   "source": [
    "## training log"
   ]
  },
  {
   "cell_type": "code",
   "execution_count": 13,
   "id": "6ed78d48",
   "metadata": {},
   "outputs": [
    {
     "data": {
      "image/png": "[encoded data removed]",
      "text/plain": [
       "<Figure size 640x480 with 1 Axes>"
      ]
     },
     "metadata": {},
     "output_type": "display_data"
    }
   ],
   "source": [
    "df_log = pd.DataFrame(trainer.state.log_history)\n",
    "\n",
    "(df_log.dropna(subset=[\"eval_loss\"]).reset_index()[\"eval_loss\"]\n",
    "        .plot(label=\"Validation\"))\n",
    "df_log.dropna(subset=[\"loss\"]).reset_index()[\"loss\"].plot(label=\"Train\")\n",
    "\n",
    "plt.xlabel(\"Epochs\")\n",
    "plt.ylabel(\"Loss\")\n",
    "plt.legend(loc=\"upper right\")\n",
    "plt.show()"
   ]
  },
  {
   "cell_type": "markdown",
   "id": "c8a4c344",
   "metadata": {},
   "source": [
    "## verification "
   ]
  },
  {
   "cell_type": "code",
   "execution_count": 14,
   "id": "05f38769",
   "metadata": {},
   "outputs": [
    {
     "name": "stdout",
     "output_type": "stream",
     "text": [
      "{'eval_loss': 0.062271423637866974, 'eval_runtime': 5.3822, 'eval_samples_per_second': 10.033, 'eval_steps_per_second': 5.017, 'epoch': 10.0}\n"
     ]
    },
    {
     "data": {
      "text/plain": [
       "{'eval_loss': 0.062271423637866974,\n",
       " 'eval_runtime': 5.3822,\n",
       " 'eval_samples_per_second': 10.033,\n",
       " 'eval_steps_per_second': 5.017,\n",
       " 'epoch': 10.0}"
      ]
     },
     "execution_count": 14,
     "metadata": {},
     "output_type": "execute_result"
    }
   ],
   "source": [
    "trainer.evaluate(dataset['dev'])"
   ]
  },
  {
   "cell_type": "code",
   "execution_count": 15,
   "id": "b7e4589c",
   "metadata": {},
   "outputs": [
    {
     "name": "stdout",
     "output_type": "stream",
     "text": [
      "{'eval_loss': 0.06357322633266449, 'eval_runtime': 9.9715, 'eval_samples_per_second': 10.029, 'eval_steps_per_second': 5.014, 'epoch': 10.0}\n"
     ]
    },
    {
     "data": {
      "text/plain": [
       "{'eval_loss': 0.06357322633266449,\n",
       " 'eval_runtime': 9.9715,\n",
       " 'eval_samples_per_second': 10.029,\n",
       " 'eval_steps_per_second': 5.014,\n",
       " 'epoch': 10.0}"
      ]
     },
     "execution_count": 15,
     "metadata": {},
     "output_type": "execute_result"
    }
   ],
   "source": [
    "trainer.evaluate(dataset['test'])"
   ]
  },
  {
   "cell_type": "markdown",
   "id": "30762314",
   "metadata": {},
   "source": [
    "## Save best model"
   ]
  },
  {
   "cell_type": "code",
   "execution_count": 16,
   "id": "a3095504",
   "metadata": {},
   "outputs": [],
   "source": [
    "best_model_dir = \"./trainer/best_model/\"\n",
    "trainer.save_model(best_model_dir)"
   ]
  },
  {
   "cell_type": "code",
   "execution_count": 3,
   "id": "89710f34-3efb-4cf1-8072-1684dd60ccaa",
   "metadata": {
    "tags": []
   },
   "outputs": [],
   "source": [
    "tokenizer = AutoTokenizer.from_pretrained(model_ckpt, model_max_length=512)"
   ]
  },
  {
   "cell_type": "code",
   "execution_count": 4,
   "id": "eba71fda-b8cc-4cea-aec7-ab87d8bc27b9",
   "metadata": {
    "tags": []
   },
   "outputs": [],
   "source": [
    "model = T5ForConditionalGeneration.from_pretrained(\"./trainer/best_model/\")"
   ]
  },
  {
   "cell_type": "code",
   "execution_count": 5,
   "id": "9b8d46fe-b10f-4364-810f-692e45a883f5",
   "metadata": {
    "tags": []
   },
   "outputs": [
    {
     "name": "stdout",
     "output_type": "stream",
     "text": [
      "cuda\n"
     ]
    }
   ],
   "source": [
    "import torch\n",
    "device = torch.device(\"cuda\") if torch.cuda.is_available() else torch.device(\"cpu\")\n",
    "print(device)\n",
    "model = model.to(device)"
   ]
  },
  {
   "cell_type": "code",
   "execution_count": 6,
   "id": "f984acd6",
   "metadata": {
    "tags": []
   },
   "outputs": [
    {
     "name": "stdout",
     "output_type": "stream",
     "text": [
      "[['Avon', 'Sales and Use Tax', '0.5', '2019-10-01 00:00:00']]\n"
     ]
    }
   ],
   "source": [
    "input_text = 'generate templates: Starting Oct 1, 2019, Avon will have a 0.5 percent sales and use tax.'\n",
    "encoded = tokenizer(input_text, return_tensors='pt').to(device)\n",
    "output = model.generate(**encoded,max_length=1024, )\n",
    "print(tokenizer.decode(output[0], skip_special_tokens=True))"
   ]
  },
  {
   "cell_type": "code",
   "execution_count": null,
   "id": "72692b62-65cc-402c-b48c-9abfa74af341",
   "metadata": {
    "tags": []
   },
   "outputs": [],
   "source": []
  },
  {
   "cell_type": "code",
   "execution_count": null,
   "id": "869a2a49-51af-4036-aa89-fa1ac72307c5",
   "metadata": {},
   "outputs": [],
   "source": []
  },
  {
   "cell_type": "code",
   "execution_count": 7,
   "id": "f2fb326b-cacd-46b6-abd5-42364d7d6b27",
   "metadata": {
    "tags": []
   },
   "outputs": [
    {
     "data": {
      "text/html": [
       "<div>\n",
       "<style scoped>\n",
       "    .dataframe tbody tr th:only-of-type {\n",
       "        vertical-align: middle;\n",
       "    }\n",
       "\n",
       "    .dataframe tbody tr th {\n",
       "        vertical-align: top;\n",
       "    }\n",
       "\n",
       "    .dataframe thead th {\n",
       "        text-align: right;\n",
       "    }\n",
       "</style>\n",
       "<table border=\"1\" class=\"dataframe\">\n",
       "  <thead>\n",
       "    <tr style=\"text-align: right;\">\n",
       "      <th></th>\n",
       "      <th>Unnamed: 0</th>\n",
       "      <th>document_url</th>\n",
       "      <th>input</th>\n",
       "      <th>output</th>\n",
       "    </tr>\n",
       "  </thead>\n",
       "  <tbody>\n",
       "    <tr>\n",
       "      <th>0</th>\n",
       "      <td>0</td>\n",
       "      <td>2020_Apr_George-740d04.pdf</td>\n",
       "      <td>WASHINGTON STATE DEPARTMENT OF REVENUE. LOCAL ...</td>\n",
       "      <td>[['George TBD', 'Local Sales Tax Rate', '0.019...</td>\n",
       "    </tr>\n",
       "    <tr>\n",
       "      <th>1</th>\n",
       "      <td>1</td>\n",
       "      <td>2020_Apr_GigHarbor-92d49d.pdf</td>\n",
       "      <td>WASHINGTON STATE DEPARTMENT OF REVENUE. LOCAL ...</td>\n",
       "      <td>[['Gig Harbor', 'Local Sales Tax Rate', '0.022...</td>\n",
       "    </tr>\n",
       "    <tr>\n",
       "      <th>2</th>\n",
       "      <td>2</td>\n",
       "      <td>2020_Apr_GraysHarbor-bf4ccd.pdf</td>\n",
       "      <td>WASHINGTON STATE DEPARTMENT OF REVENUE. LOCAL ...</td>\n",
       "      <td>[['Unincorp. Areas', 'Local Sales Tax Rate', '...</td>\n",
       "    </tr>\n",
       "    <tr>\n",
       "      <th>3</th>\n",
       "      <td>3</td>\n",
       "      <td>2020_Apr_GraysHarborLodging-d073f7.pdf</td>\n",
       "      <td>WASHINGTON STATE DEPARTMENT OF REVENUE. LOCAL ...</td>\n",
       "      <td>[['Unincorp. Areas', 'Combined Sales Tax Rate'...</td>\n",
       "    </tr>\n",
       "    <tr>\n",
       "      <th>4</th>\n",
       "      <td>4</td>\n",
       "      <td>2020_Apr_Yakima-561d81.pdf</td>\n",
       "      <td>WASHINGTON STATE DEPARTMENT OF REVENUE. LOCAL ...</td>\n",
       "      <td>[['Unincorp. Areas', 'Local Sales Tax Rate', '...</td>\n",
       "    </tr>\n",
       "    <tr>\n",
       "      <th>...</th>\n",
       "      <td>...</td>\n",
       "      <td>...</td>\n",
       "      <td>...</td>\n",
       "      <td>...</td>\n",
       "    </tr>\n",
       "    <tr>\n",
       "      <th>95</th>\n",
       "      <td>95</td>\n",
       "      <td>local-tax-changes-10-01-2021-dd4828.pdf</td>\n",
       "      <td>\\n,Local Tax Changes\\n,Effective October 1, 20...</td>\n",
       "      <td>[['Hankinson', 'City sales, use, and gross rec...</td>\n",
       "    </tr>\n",
       "    <tr>\n",
       "      <th>96</th>\n",
       "      <td>96</td>\n",
       "      <td>local-tax-changes-7-1-2020-b76cfe.pdf</td>\n",
       "      <td>Effective July 1, 2020. \\nThe following local ...</td>\n",
       "      <td>[['Beulah', 'city sales, use, and alcohol gros...</td>\n",
       "    </tr>\n",
       "    <tr>\n",
       "      <th>97</th>\n",
       "      <td>97</td>\n",
       "      <td>tb-01-21-7a5d19.pdf</td>\n",
       "      <td>\\n,Changes in Utah laws or Tax\\n,Commission ru...</td>\n",
       "      <td>[['Orderville (Kane County)', 'Transient Room ...</td>\n",
       "    </tr>\n",
       "    <tr>\n",
       "      <th>98</th>\n",
       "      <td>98</td>\n",
       "      <td>tb-02-22-a5b2d2.pdf</td>\n",
       "      <td>\\n,Changes in Utah laws or Tax\\n,Commission ru...</td>\n",
       "      <td>[['Eagle Mountain (Utah County)', 'Transient R...</td>\n",
       "    </tr>\n",
       "    <tr>\n",
       "      <th>99</th>\n",
       "      <td>99</td>\n",
       "      <td>tb-09-22-8ad57a.pdf</td>\n",
       "      <td>\\n,Changes in Utah laws or Tax\\n,Commission ru...</td>\n",
       "      <td>[['Bountiful (Davis County)', 'Transient Room ...</td>\n",
       "    </tr>\n",
       "  </tbody>\n",
       "</table>\n",
       "<p>100 rows × 4 columns</p>\n",
       "</div>"
      ],
      "text/plain": [
       "    Unnamed: 0                             document_url  \\\n",
       "0            0               2020_Apr_George-740d04.pdf   \n",
       "1            1            2020_Apr_GigHarbor-92d49d.pdf   \n",
       "2            2          2020_Apr_GraysHarbor-bf4ccd.pdf   \n",
       "3            3   2020_Apr_GraysHarborLodging-d073f7.pdf   \n",
       "4            4               2020_Apr_Yakima-561d81.pdf   \n",
       "..         ...                                      ...   \n",
       "95          95  local-tax-changes-10-01-2021-dd4828.pdf   \n",
       "96          96    local-tax-changes-7-1-2020-b76cfe.pdf   \n",
       "97          97                      tb-01-21-7a5d19.pdf   \n",
       "98          98                      tb-02-22-a5b2d2.pdf   \n",
       "99          99                      tb-09-22-8ad57a.pdf   \n",
       "\n",
       "                                                input  \\\n",
       "0   WASHINGTON STATE DEPARTMENT OF REVENUE. LOCAL ...   \n",
       "1   WASHINGTON STATE DEPARTMENT OF REVENUE. LOCAL ...   \n",
       "2   WASHINGTON STATE DEPARTMENT OF REVENUE. LOCAL ...   \n",
       "3   WASHINGTON STATE DEPARTMENT OF REVENUE. LOCAL ...   \n",
       "4   WASHINGTON STATE DEPARTMENT OF REVENUE. LOCAL ...   \n",
       "..                                                ...   \n",
       "95  \\n,Local Tax Changes\\n,Effective October 1, 20...   \n",
       "96  Effective July 1, 2020. \\nThe following local ...   \n",
       "97  \\n,Changes in Utah laws or Tax\\n,Commission ru...   \n",
       "98  \\n,Changes in Utah laws or Tax\\n,Commission ru...   \n",
       "99  \\n,Changes in Utah laws or Tax\\n,Commission ru...   \n",
       "\n",
       "                                               output  \n",
       "0   [['George TBD', 'Local Sales Tax Rate', '0.019...  \n",
       "1   [['Gig Harbor', 'Local Sales Tax Rate', '0.022...  \n",
       "2   [['Unincorp. Areas', 'Local Sales Tax Rate', '...  \n",
       "3   [['Unincorp. Areas', 'Combined Sales Tax Rate'...  \n",
       "4   [['Unincorp. Areas', 'Local Sales Tax Rate', '...  \n",
       "..                                                ...  \n",
       "95  [['Hankinson', 'City sales, use, and gross rec...  \n",
       "96  [['Beulah', 'city sales, use, and alcohol gros...  \n",
       "97  [['Orderville (Kane County)', 'Transient Room ...  \n",
       "98  [['Eagle Mountain (Utah County)', 'Transient R...  \n",
       "99  [['Bountiful (Davis County)', 'Transient Room ...  \n",
       "\n",
       "[100 rows x 4 columns]"
      ]
     },
     "execution_count": 7,
     "metadata": {},
     "output_type": "execute_result"
    }
   ],
   "source": [
    "test_data = pd.read_csv(\"../sut-data/test.tsv\", sep=\"\\t\")\n",
    "test_data"
   ]
  },
  {
   "cell_type": "code",
   "execution_count": 8,
   "id": "6e01a772-3a70-49f3-8e62-9c2fe7fed014",
   "metadata": {
    "collapsed": true,
    "jupyter": {
     "outputs_hidden": true
    },
    "tags": []
   },
   "outputs": [
    {
     "name": "stdout",
     "output_type": "stream",
     "text": [
      "0\n",
      "[['Unincorp. Areas', 'Local Sales Tax Rate', '0.017', 'nan', '2020-04-01 00:00:00'], ['Unincorp. Areas', 'State Sales Tax Rate', '0.065', 'nan', '2020-04-01 00:00:00'], ['Unincorp. Areas', 'Total Sales Tax Rate', '0.082', 'nan', '2020-04-01 00:00:00'], ['Coulee City', 'Local Sales Tax Rate', '0.017', 'nan', '2020-04-01 00:00:00'], ['Coulee City', 'State Sales Tax Rate', '0.065', 'nan', '2020-04-01 00:00:00'], ['Coulee City', 'Total Sales Tax Rate', '0.082', 'nan', '2020-04-01 00:00:00'], ['Electric City', 'Local Sales Tax Rate', '0.017', 'nan', '2020-04-01 00:00:00'], ['Electric City', 'State Sales Tax Rate', '0.065', 'nan', '2020-04-01 00:00:00'], ['Electric City', 'Total Sales Tax Rate', '0.082', 'nan', '2020-04-01 00:00:00'], ['Ephrata', 'Local Sales Tax Rate', '0.019', 'nan', '2020-04-01 00:00:00'], ['Ephrata', 'State Sales Tax Rate', '0.065', 'nan', '2020-04-01 00:00:00'], ['Ephrata', 'Total Sales Tax Rate', '0.084', 'nan', '2020-04-01 00:00:00'], ['George TBD', 'Local Sales Tax Rate', '0.019', 'nan', '2020-04-01 00:00:00'], ['George TBD', 'State Sales Tax Rate', '0.065', 'nan', '2020-04-01 00:00:00'], ['George TBD', 'Total Sales Tax Rate', '0.084', 'nan', '2020-04-01 00:00:00'], ['Grand Coulee', 'Local Sales Tax Rate', '0.019', 'nan', '2020-04-01 00:00:00'], ['Grand Coulee', 'State Sales Tax Rate', '0.065', 'n\n",
      "1\n",
      "[['Unincorp. Areas', 'Local Sales Tax Rate', '0.028', 'nan', '2020-04-01 00:00:00'], ['Unincorp. Areas', 'State Sales Tax Rate', '0.065', 'nan', '2020-04-01 00:00:00'], ['Unincorp. Areas', 'Total Sales Tax Rate', '0.093', 'nan', '2020-04-01 00:00:00'], ['Unincorp. Areas Non-RTA', 'Local Sales Tax Rate', '0.014', 'nan', '2020-04-01 00:00:00'], ['Unincorp. Areas Non-RTA', 'State Sales Tax Rate', '0.065', 'nan', '2020-04-01 00:00:00'], ['Unincorp. Areas Non-RTA', 'Total Sales Tax Rate', '0.079', 'nan', '2020-04-01 00:00:00'], ['Unincorp. Areas Non-RTA HBZ', 'Local Sales Tax Rate', '0.014', 'nan', '2020-04-01 00:00:00'], ['Unincorp. Areas Non-RTA HBZ', 'State Sales Tax Rate', '0.065', 'nan', '2020-04-01 00:00:00'], ['Unincorp. Areas Non-RTA HBZ', 'Total Sales Tax Rate', '0.079', 'nan', '2020-04-01 00:00:00'], ['Unincorp. Areas PTBA', 'Local Sales Tax Rate', '0.034', 'nan', '2020-04-01 00:00:00'], ['Unincorp. Areas PTBA', 'State Sales Tax Rate', '0.065', 'nan', '2020-04-01 00:00:00'], ['Unincorp. Areas PTBA', 'Total Sales Tax Rate', '0.085', 'nan', '2020-04-01 00:00:00'], ['Auburn/Pierce', 'Local Sales Tax Rate', '0.034', 'nan', '2020-04-01 00:00:00'], ['Auburn/Pierce', 'Total Sales Tax Rate', '0.099', 'nan', '2020-04-01 00:00:00'], ['Boley Lake', 'Local Sales Tax Rate', '0.028', 'nan', '2020-04-01 \n",
      "2\n",
      "[['Unincorp. Areas', 'Local Sales Tax Rate', '0.024', 'nan', '2020-04-01 00:00:00'], ['Unincorp. Areas', 'State Sales Tax Rate', '0.065', 'nan', '2020-04-01 00:00:00'], ['Unincorp. Areas', 'Total Sales Tax Rate', '0.089', 'nan', '2020-04-01 00:00:00'], ['Aberdeen', 'Local Sales Tax Rate', '0.024', 'nan', '2020-04-01 00:00:00'], ['Aberdeen', 'State Sales Tax Rate', '0.065', 'nan', '2020-04-01 00:00:00'], ['Aberdeen', 'Total Sales Tax Rate', '0.089', 'nan', '2020-04-01 00:00:00'], ['Cosmopolis', 'Local Sales Tax Rate', '0.024', 'nan', '2020-04-01 00:00:00'], ['Cosmopolis', 'State Sales Tax Rate', '0.065', 'nan', '2020-04-01 00:00:00'], ['Cosmopolis', 'Total Sales Tax Rate', '0.089', 'nan', '2020-04-01 00:00:00'], ['Elma', 'Local Sales Tax Rate', '0.024', 'nan', '2020-04-01 00:00:00'], ['Elma', 'State Sales Tax Rate', '0.065', 'nan', '2020-04-01 00:00:00'], ['Elma', 'Total Sales Tax Rate', '0.089', 'nan', '2020-04-01 00:00:00'], ['Hoquiam', 'Local Sales Tax Rate', '0.024', 'nan', '2020-04-01 00:00:00'], ['Hoquiam', 'State Sales Tax Rate', '0.065', 'nan', '2020-04-01 00:00:00'], ['Hoquiam', 'Total Sales Tax Rate', '0.089', 'nan', '2020-04-01 00:00:00'], ['McLeary', 'Local Sales Tax Rate', '0.024', 'nan', '2020-04-01 00:00:00'], ['McLeary', 'State Sales Tax Rate', '0.065', 'nan', '2020-04-01 00:00:00'], ['McLeary', 'Total Sales Tax Rate', '0.089', 'nan', '2020-04-01 00:00:00'], ['Mc\n",
      "3\n",
      "[['Unincorp. Areas', 'Lodging Sales Tax Rate', '0.089', 'nan', '2020-04-01 00:00:00'], ['Unincorp. Areas', 'Combined Sales Tax Rate', '0.03', 'nan', '2020-04-01 00:00:00'], ['Unincorp. Areas', 'Special Hotel/Motel Tax', '0.03', 'nan', '2020-04-01 00:00:00'], ['Unincorp. Areas', 'Total Lodging Sales Tax Rate', '0.112', 'nan', '2020-04-01 00:00:00'], ['Aberdeen', 'Lodging Sales Tax Rate', '0.09', 'nan', '2020-04-01 00:00:00'], ['Aberdeen', 'Combined Sales Tax Rate', '0.03', 'nan', '2020-04-01 00:00:00'], ['Aberdeen', 'Special Hotel/Motel Tax', '0.03', 'nan', '2020-04-01 00:00:00'], ['Aberdeen', 'Total Lodging Sales Tax Rate', '0.112', 'nan', '2020-04-01 00:00:00'], ['Cosmopolis', 'Lodging Sales Tax Rate', '0.089', 'nan', '2020-04-01 00:00:00'], ['Cosmopolis', 'Special Hotel/Motel Tax', '0.03', 'nan', '2020-04-01 00:00:00'], ['Cosmopolis', 'Total Lodging Sales Tax Rate', '0.119', 'nan', '2020-04-01 00:00:00'], ['Elma', 'Lodging Sales Tax Rate', '0.089', 'nan', '2020-04-01 00:00:00'], ['Elma', 'Combined Sales Tax Rate', '0.03', 'nan', '2020-04-01 00:00:00'], ['Elma', 'Special Hotel/Motel Tax', '0.03', 'nan', '2020-04-01 00:00:00'], ['\n",
      "4\n",
      "[['Unincorp. Areas', 'Local Sales Tax Rate', '0.015', 'nan', '2020-04-01 00:00:00'], ['Unincorp. Areas', 'State Sales Tax Rate', '0.065', 'nan', '2020-04-01 00:00:00'], ['Unincorp. Areas', 'Total Sales Tax Rate', '0.08', 'nan', '2020-04-01 00:00:00'], ['Grandview', 'Local Sales Tax Rate', '0.015', 'nan', '2020-04-01 00:00:00'], ['Grandview', 'State Sales Tax Rate', '0.065', 'nan', '2020-04-01 00:00:00'], ['Grandview', 'Total Sales Tax Rate', '0.08', 'nan', '2020-04-01 00:00:00'], ['Granger', 'Local Sales Tax Rate', '0.015', 'nan', '2020-04-01 00:00:00'], ['Granger', 'State Sales Tax Rate', '0.065', 'nan', '2020-04-01 00:00:00'], ['Granger', 'Total Sales Tax Rate', '0.08', 'nan', '2020-04-01 00:00:00'], ['Harrah', 'Local Sales Tax Rate', '0.015', 'nan', '2020-04-01 00:00:00'], ['Harrah', 'State Sales Tax Rate', '0.065', 'nan', '2020-04-01 00:00:00'], ['Harrah', 'Total Sales Tax Rate', '0.08', 'nan', '2020-04-01 00:00:00'], ['Mabton', 'Local Sales Tax Rate', '0.015', 'nan', '2020-04-01 00:00:00'], ['Mabton', 'State Sales Tax Rate', '0.065', 'nan', '2020-04-01 00:00:00'], ['Mabton', 'Total Sales Tax Rate', '0.08', 'nan', '2020-04-01 00:00:00'], ['Mabton', 'Total Sales Tax Rate', '0.08', 'nan', '2020-04-01 00:00:00'], ['Na\n",
      "5\n",
      "[['Unincorporated Areas', 'Local Sales Tax Rate', '0.018', 'nan', '2020-01-01 00:00:00'], ['Unincorporated Areas', 'State Sales Tax Rate', '0.065', 'nan', '2020-01-01 00:00:00'], ['Unincorporated Areas', 'Total Sales Tax Rate', '0.083', 'nan', '2020-01-01 00:00:00'], ['Cashmere', 'Local Sales Tax Rate', '0.018', 'nan', '2020-01-01 00:00:00'], ['Cashmere', 'State Sales Tax Rate', '0.065', 'nan', '2020-01-01 00:00:00'], ['Cashmere', 'Total Sales Tax Rate', '0.083', 'nan', '2020-01-01 00:00:00'], ['Chelan (City)', 'Local Sales Tax Rate', '0.018', 'nan', '2020-01-01 00:00:00'], ['Chelan (City)', 'State Sales Tax Rate', '0.065', 'nan', '2020-01-01 00:00:00'], ['Chelan (City)', 'Total Sales Tax Rate', '0.083', 'nan', '2020-01-01 00:00:00'], ['Entiat', 'Local Sales Tax Rate', '0.018', 'nan', '2020-01-01 00:00:00'], ['Entiat', 'State Sales Tax Rate', '0.065', 'nan', '2020-01-01 00:00:00'], ['Entiat', 'Total Sales Tax Rate', '0.083', 'nan', '2020-01-01 00:00:00'], ['Leavenworth', 'Local Sales Tax Rate', '0.020', 'nan', '2020-01-01 00:00:00'], ['Leavenworth', 'State Sales Tax Rate', '0.065', 'nan', '2020-01-01 00:00:00'], ['Leavenworth', 'Total Sales Tax Rate', '0.085', 'nan', '2020-01-01 00:00:00'], ['Wenatchee', 'Local Sales Tax Rate', '0.020',\n",
      "6\n",
      "[['Morgan City', 'Highways Tax', '0.07', 'nan', '2021-01-01 00:00:00'], ['Military Rec - Park City', 'MIDA Accommodations Tax', '0.03', 'nan', '2021-01-01 00:00:00'], ['Military Rec - Wasatch', 'MIDA Accommodations Tax', '0.03', 'nan', '2021-01-01 00:00:00'], ['Military Rec - Hideout', 'MIDA Accommodations Tax', '0.03', 'nan', '2021-01-01 00:00:00'], ['Minersville', 'Municipal Transient Room Tax', '0.09', 'nan', '2021-01-01 00:00:00'], ['Monroe', 'Municipal Transient Room Tax', '0.03', 'nan', '2021-01-01 00:00:00']]\n",
      "7\n",
      "[['Kalispel Tribe – Airway Heights', 'Local Sales Tax Rate', '0.026', 'nan', '2021-04-01 00:00:00'], ['Kalispel Tribe – Airway Heights', 'State Sales Tax Rate', '0.065', 'nan', '2021-04-01 00:00:00'], ['Kalispel Tribe – Airway Heights', 'Total Sales Tax Rate', '0.091', 'nan', '2021-04-01 00:00:00']]\n",
      "8\n",
      "[['Unincorp. Areas', 'Local Sales Tax Rate', '0.014', 'nan', '2021-04-01 00:00:00'], ['Unincorp. Areas', 'State Sales Tax Rate', '0.065', 'nan', '2021-04-01 00:00:00'], ['Unincorp. Areas', 'Total Sales Tax Rate', '0.079', 'nan', '2021-04-01 00:00:00'], ['Unincorp. Areas PTBA', 'Local Sales Tax Rate', '0.020', 'nan', '2021-04-01 00:00:00'], ['Unincorp. Areas PTBA', 'State Sales Tax Rate', '0.065', 'nan', '2021-04-01 00:00:00'], ['Unincorp. Areas PTBA', 'Total Sales Tax Rate', '0.085', 'nan', '2021-04-01 00:00:00'], ['Granger', 'Local Sales Tax Rate', '0.015', 'nan', '2021-04-01 00:00:00'], ['Granger', 'State Sales Tax Rate', '0.065', 'nan', '2021-04-01 00:00:00'], ['Granger', 'Total Sales Tax Rate', '0.080', 'nan', '2021-04-01 00:00:00'], ['Bellingham TBD', 'Local Sales Tax Rate', '0.022', 'nan', '2021-04-01 00:00:00'], ['Bellingham TBD', 'State Sales Tax Rate', '0.065', 'nan', '2021-04-01 00:00:00'], ['Bellingham TBD', 'Total Sales Tax Rate', '0.087', 'nan', '2021-04-01 00:00:00'], ['Blaine', 'Local Sales Tax Rate', '0.022', 'nan', '2021-04-01 00:00:00'], ['Blaine', 'State Sales Tax Rate', '0.065', 'nan', '2021-04-01 00:00:00'], ['Blaine', 'Total Sales Tax Rate', '0.087', 'nan', '2021-04-01 00:00:00'], ['Everson', 'Local Sales Tax Rate', '0.020', 'nan', '2021-04-01 00:00:00'], ['Everson', 'State Sales Tax Rate', '0.065', 'n\n",
      "9\n",
      "[['Swinomish Tribe – La Conner', 'Local Sales Tax Rate', '0.020', 'nan', '2021-04-01 00:00:00'], ['Swinomish Tribe – La Conner', 'State Sales Tax Rate', '0.065', 'nan', '2021-04-01 00:00:00'], ['Swinomish Tribe – La Conner', 'Total Sales Tax Rate', '0.085', 'nan', '2021-04-01 00:00:00']]\n",
      "10\n",
      "[['Swinomish Tribe – Unincorporated Skagit County', 'Local Sales Tax Rate', '0.016', 'nan', '2021-04-01 00:00:00'], ['Swinomish Tribe – Unincorporated Skagit County', 'State Sales Tax Rate', '0.065', 'nan', '2021-04-01 00:00:00'], ['Swinomish Tribe – Unincorporated Skagit County', 'Total Sales Tax Rate', '0.081', 'nan', '2021-04-01 00:00:00']]\n",
      "11\n",
      "[['East Wenatchee','sales and use tax', '0.081', 'nan', '2021-07-01 00:00:00'], ['East Wenatchee','sales and use tax', '0.04', 'nan', '2021-07-01 00:00:00'], ['East Wenatchee','sales and use tax', '0.121', 'nan', '2021-07-01 00:00:00']]\n",
      "12\n",
      "[['Nisqually Tribe – Lacey', 'Local Sales Tax Rate', '0.029', 'nan', '2021-07-01 00:00:00'], ['Nisqually Tribe – Lacey', 'State Sales Tax Rate', '0.065', 'nan', '2021-07-01 00:00:00'], ['Nisqually Tribe – Lacey', 'Total Sales Tax Rate', '0.094', 'nan', '2021-07-01 00:00:00']]\n",
      "13\n",
      "[['Unincorp. Areas', 'Local Sales Tax Rate', '0.029', 'nan', '2021-07-01 00:00:00'], ['Unincorp. Areas', 'State Sales Tax Rate', '0.065', 'nan', '2021-07-01 00:00:00'], ['Unincorp. Areas', 'Total Sales Tax Rate', '0.094', 'nan', '2021-07-01 00:00:00'], ['Unincorp. Non-RTA', 'Local Sales Tax Rate', '0.015', 'nan', '2021-07-01 00:00:00'], ['Unincorp. Non-RTA', 'State Sales Tax Rate', '0.065', 'nan', '2021-07-01 00:00:00'], ['Unincorp. Non-RTA', 'Total Sales Tax Rate', '0.080', 'nan', '2021-07-01 00:00:00'], ['Unincorp. Non-RTA HBZ', 'Local Sales Tax Rate', '0.015', 'nan', '2021-07-01 00:00:00'], ['Unincorp. Non-RTA HBZ', 'State Sales Tax Rate', '0.065', 'nan', '2021-07-01 00:00:00'], ['Unincorp. Non-RTA HBZ', 'Total Sales Tax Rate', '0.086', 'nan', '2021-07-01 00:00:00'], ['Unincorp. PTBA', 'Local Sales Tax Rate', '0.035', 'nan', '2021-07-01 00:00:00'], ['Unincorp. PTBA', 'State Sales Tax Rate', '0.065', 'nan', '2021-07-01 00:00:00'], ['Unincorp. PTBA', 'Total Sales Tax Rate', '0.086', 'nan', '2021-07-01 00:00:00'], ['Boley', 'Local Sales Tax Rate', '0.015', 'nan', '2021-07-01 00:00:00'], ['Boley', 'State Sales Tax Rate', '0.065', 'nan', '2021-07-01 00:00:00'], ['Boley', 'Total Sales Tax Rate', '0.080', 'nan', '2021-07-01 00:00:00'], ['Carbonado', 'Local Sales Tax Rate', '0.015',\n",
      "14\n",
      "[['Spokane (City)', 'Sales and Use Tax', '0.088', 'nan', '2021-07-01 00:00:00'], ['Spokane (City)', 'Sales and Use Tax', '0.033', 'nan', '2021-07-01 00:00:00'], ['Spokane (City)', 'Sales and Use Tax', '0.121', 'nan', '2021-07-01 00:00:00'], ['Spokane (City)', 'Sales and Use Tax', '0.090', 'nan', '2021-07-01 00:00:00']]\n",
      "15\n",
      "[['Nisqually Tribe – Unincorporated Pierce County Non-RTA', 'Local Sales Tax Rate', '0.015', 'nan', '2021-07-01 00:00:00'], ['Nisqually Tribe – Unincorporated Pierce County Non-RTA', 'State Sales Tax Rate', '0.065', 'nan', '2021-07-01 00:00:00'], ['Nisqually Tribe – Unincorporated Pierce County Non-RTA', 'Total Sales Tax Rate', '0.08', 'nan', '2021-07-01 00:00:00']]\n",
      "16\n",
      "[['Nisqually Tribe – Unincorporated Pierce County Non-RTA Lodging', 'Retail Sales Tax Rate', '0.078', 'nan', '2021-07-01 00:00:00'], ['Nisqually Tribe – Unincorporated Pierce County Non-RTA Lodging', 'Lodging Tax Rate', '0.05', 'nan', '2021-07-01 00:00:00'], ['Nisqually Tribe – Unincorporated Pierce County Non-RTA Lodging', 'Total Combined Tax Rate', '0.128', 'nan', '2021-07-01 00:00:00']]\n",
      "17\n",
      "[['Nisqually Tribe – Unincorporated Pierce County RTA PTBA', 'Local Sales Tax Rate', '0.035', 'nan', '2021-07-01 00:00:00'], ['Nisqually Tribe – Unincorporated Pierce County RTA PTBA', 'State Sales Tax Rate', '0.065', 'nan', '2021-07-01 00:00:00'], ['Nisqually Tribe – Unincorporated Pierce County RTA PTBA', 'Total Sales Tax Rate', '0.010', 'nan', '2021-07-01 00:00:00']]\n",
      "18\n",
      "[['Unincorporated Areas', 'Local Sales Tax Rate', '0.018', 'nan', '2021-07-01 00:00:00'], ['Unincorporated Areas', 'State Sales Tax Rate', '0.065', 'nan', '2021-07-01 00:00:00'], ['Unincorporated Areas', 'Total Sales Tax Rate', '0.083', 'nan', '2021-07-01 00:00:00'], ['Cashmere', 'Local Sales Tax Rate', '0.018', 'nan', '2021-07-01 00:00:00'], ['Cashmere', 'State Sales Tax Rate', '0.065', 'nan', '2021-07-01 00:00:00'], ['Cashmere', 'Total Sales Tax Rate', '0.083', 'nan', '2021-07-01 00:00:00'], ['Chelan (City)', 'Local Sales Tax Rate', '0.018', 'nan', '2021-07-01 00:00:00'], ['Chelan (City)', 'State Sales Tax Rate', '0.065', 'nan', '2021-07-01 00:00:00'], ['Chelan (City)', 'Total Sales Tax Rate', '0.083', 'nan', '2021-07-01 00:00:00'], ['Entiat', 'Local Sales Tax Rate', '0.018', 'nan', '2021-07-01 00:00:00'], ['Entiat', 'State Sales Tax Rate', '0.065', 'nan', '2021-07-01 00:00:00'], ['Entiat', 'Total Sales Tax Rate', '0.083', 'nan', '2021-07-01 00:00:00'], ['Leavenworth', 'Local Sales Tax Rate', '0.020', 'nan', '2021-07-01 00:00:00'], ['Leavenworth', 'State Sales Tax Rate', '0.065', 'nan', '2021-07-01 00:00:00'], ['Leavenworth', 'Total Sales Tax Rate', '0.085', 'nan', '2021-07-01 00:00:00'], ['Wenatchee', 'Local Sales Tax Rate', '0.021',\n",
      "19\n",
      "[['Unincorp. Areas', 'Local Sales Tax Rate', '0.015', 'nan', '2021-07-01 00:00:00'], ['Unincorp. Areas', 'State Sales Tax Rate', '0.065', 'nan', '2021-07-01 00:00:00'], ['Unincorp. Areas', 'Total Sales Tax Rate', '0.08', 'nan', '2021-07-01 00:00:00'], ['Unincorp. Areas PTBA', 'Local Sales Tax Rate', '0.021', 'nan', '2021-07-01 00:00:00'], ['Unincorp. Areas PTBA', 'State Sales Tax Rate', '0.065', 'nan', '2021-07-01 00:00:00'], ['Unincorp. Areas PTBA', 'Total Sales Tax Rate', '0.086', 'nan', '2021-07-01 00:00:00'], ['Belleingham', 'Local Sales Tax Rate', '0.023', 'nan', '2021-07-01 00:00:00'], ['Belleingham', 'State Sales Tax Rate', '0.065', 'nan', '2021-07-01 00:00:00'], ['Belleingham', 'Total Sales Tax Rate', '0.088', 'nan', '2021-07-01 00:00:00'], ['Blaine', 'Local Sales Tax Rate', '0.023', 'nan', '2021-07-01 00:00:00'], ['Blaine', 'State Sales Tax Rate', '0.065', 'nan', '2021-07-01 00:00:00'], ['Blaine', 'Total Sales Tax Rate', '0.088', 'nan', '2021-07-01 00:00:00'], ['Everson', 'Local Sales Tax Rate', '0.021', 'nan', '2021-07-01 00:00:00'], ['Everson', 'State Sales Tax Rate', '0.065', 'nan', '2021-07-01 00:00:00'], ['Everson', 'Total Sales Tax Rate', '0.086', 'nan', '2021-07-01 00:00:00'], ['Ferndale', 'Local Sales Tax Rate', '0.023', 'nan', '2021-07-01 00:00:00'], ['Ferndale', 'State Sales Tax Rate', '0.065', 'nan', '2021-07-01 00:00:00'], ['Ferndale', 'Total Sales Tax Rate', '0.088',\n",
      "20\n",
      "[['Williams', 'January 1, 2022', 'nan', '1', 'Transient Room Tax'], ['Millard County', 'January 1, 2022', 'nan', '1', 'Transient Room Tax'], ['Grand County', 'January 1, 2022', 'nan', '1', 'Off-highway Vehicle Rental Tax'], ['Farr West', 'January 1, 2022', 'nan', '1', 'Municipal Telecommunication License']]\n",
      "21\n",
      "[['Manti', 'October 1, 2022', 'nan', '1', 'Highways Tax'], ['Monroe', 'October 1, 2022', 'nan', '1', 'Highways Tax'], ['Wasatch County', 'October 1, 2022', 'nan', '1', 'County Option Transportation'], ['Buntiful', 'October 1, 2022', 'nan', '1', 'Municipal Transient Room Tax']]\n",
      "22\n",
      "[['Unincorp. Areas', 'Local Sales Tax Rate', '0.028', 'nan', '2022-04-01 00:00:00'], ['Unincorp. Areas', 'State Sales Tax Rate', '0.065', 'nan', '2022-04-01 00:00:00'], ['Unincorp. Areas', 'Total Sales Tax Rate', '0.079', 'nan', '2022-04-01 00:00:00'], ['Unincorporated PTBA', 'Local Sales Tax Rate', '0.040', 'nan', '2022-04-01 00:00:00'], ['Unincorporated PTBA', 'State Sales Tax Rate', '0.065', 'nan', '2022-04-01 00:00:00'], ['Unincorporated PTBA', 'Total Sales Tax Rate', '0.0105', 'nan', '2022-04-01 00:00:00'], ['Unincorporated PTBA Non-RTA', 'Local Sales Tax Rate', '0.014', 'nan', '2022-04-01 00:00:00'], ['Unincorporated PTBA Non-RTA', 'State Sales Tax Rate', '0.065', 'nan', '2022-04-01 00:00:00'], ['Unincorporated PTBA Non-RTA', 'Total Sales Tax Rate', '0.079', 'nan', '2022-04-01 00:00:00'], ['Unincorporated PTBA Non-RTA', 'Total Sales Tax Rate', '0.026', 'nan', '2022-04-01 00:00:00'], ['Unincorporated PTBA Non-RTA', 'State Sales Tax Rate', '0.065', 'nan', '2022-04-01 00:00:00'], ['Unincorporated PTBA Non-RTA', 'Total Sales Tax Rate', '0.095', 'nan', '2022-04-01 00:00:00'], ['Bier', 'Local Sales Tax Rate', '0.040', 'nan', '2022-04-01 00:00:00'], ['Bier', 'State Sales Tax Rate', '0.065', 'nan', '2022-04-01 00:00:00'], ['Bier', 'Total Sales Tax Rate', '0.0105', 'nan', '2022-04-01 00:00:00'], ['Darrington', 'Local Sales Tax Rate', '0.026', 'nan', '2022-04-01 \n",
      "23\n",
      "[['Unincorporated Areas', 'Local Sales Tax Rate', '0.025', 'nan', '2022-01-01 00:00:00'], ['Unincorporated Areas', 'State Sales Tax Rate', '0.065', 'nan', '2022-01-01 00:00:00'], ['Unincorporated Areas', 'Total Sales Tax Rate', '0.09', 'nan', '2022-01-01 00:00:00'], ['Bainbridge Island', 'Local Sales Tax Rate', '0.026', 'nan', '2022-01-01 00:00:00'], ['Bainbridge Island', 'State Sales Tax Rate', '0.065', 'nan', '2022-01-01 00:00:00'], ['Bainbridge Island', 'Total Sales Tax Rate', '0.091', 'nan', '2022-01-01 00:00:00'], ['Bremerton', 'Local Sales Tax Rate', '0.025', 'nan', '2022-01-01 00:00:00'], ['Bremerton', 'State Sales Tax Rate', '0.065', 'nan', '2022-01-01 00:00:00'], ['Bremerton', 'Total Sales Tax Rate', '0.09', 'nan', '2022-01-01 00:00:00'], ['Port Orchard', 'Local Sales Tax Rate', '0.025', 'nan', '2022-01-01 00:00:00'], ['Port Orchard', 'State Sales Tax Rate', '0.065', 'nan', '2022-01-01 00:00:00'], ['Port Orchard', 'Total Sales Tax Rate', '0.09', 'nan', '2022-01-01 00:00:00'], ['Poulsbo', 'Local Sales Tax Rate', '0.023', 'nan', '2022-01-01 00:00:00'], ['Poulsbo', 'State Sales Tax Rate', '0.065', 'nan', '2022-01\n",
      "24\n",
      "[['Puyallup Tribe – Edgewood', 'Local Sales Tax Rate', '0.035', 'nan', '2022-01-01 00:00:00'], ['Puyallup Tribe – Edgewood', 'State Sales Tax Rate', '0.065', 'nan', '2022-01-01 00:00:00'], ['Puyallup Tribe – Edgewood', 'Total Sales Tax Rate', '0.010', 'nan', '2022-01-01 00:00:00']]\n",
      "25\n",
      "[['Puyallup Tribe – Edgewood Lodging', 'Retail Sales Tax Rate', '0.085', 'nan', '2022-01-01 00:00:00'], ['Puyallup Tribe – Edgewood Lodging', 'Lodging Tax Rate', '0.05', 'nan', '2022-01-01 00:00:00'], ['Puyallup Tribe – Edgewood Lodging', 'Total Combined Tax Rate', '0.135', 'nan', '2022-01-01 00:00:00']]\n",
      "26\n",
      "[['Puyallup Tribe – Federal Way', 'Local Sales Tax Rate', '0.036', 'nan', '2022-0-01-01 00:00:00'], ['Puyallup Tribe – Federal Way', 'State Sales Tax Rate', '0.065', 'nan', '2022-0-01-01 00:00:00'], ['Puyallup Tribe – Federal Way', 'Total Sales Tax Rate', '0.101', 'nan', '2022-0-01-01 00:00:00']]\n",
      "27\n",
      "[['Puyallup Tribe – Puyallup Lodging', 'Retail Sales Tax Rate', '0.085', 'nan', '2022-01-01 00:00:00'], ['Puyallup Tribe – Puyallup Lodging', 'Lodging Tax Rate', '0.05', 'nan', '2022-01-01 00:00:00'], ['Puyallup Tribe – Puyallup Lodging', 'Total Combined Tax Rate', '0.135', 'nan', '2022-01-01 00:00:00']]\n",
      "28\n",
      "[['Unincorp. Areas', 'Local Sales Tax Rate', '0.017', 'nan', '2022-01-01 00:00:00'], ['Unincorp. Areas', 'State Sales Tax Rate', '0.065', 'nan', '2022-01-01 00:00:00'], ['Unincorp. Areas', 'Total Sales Tax Rate', '0.082', 'nan', '2022-01-01 00:00:00'], ['Unincorp. Areas PTBA', 'Local Sales Tax Rate', '0.021', 'nan', '2022-01-01 00:00:00'], ['Unincorp. Areas PTBA', 'State Sales Tax Rate', '0.065', 'nan', '2022-01-01 00:00:00'], ['Unincorp. Areas PTBA', 'Total Sales Tax Rate', '0.086', 'nan', '2022-01-01 00:00:00'], ['Anacortes', 'Local Sales Tax Rate', '0.023', 'nan', '2022-01-01 00:00:00'], ['Anacortes', 'State Sales Tax Rate', '0.065', 'nan', '2022-01-01 00:00:00'], ['Anacortes', 'Total Sales Tax Rate', '0.088', 'nan', '2022-01-01 00:00:00'], ['Burlington', 'Local Sales Tax Rate', '0.021', 'nan', '2022-01-01 00:00:00'], ['Burlington', 'State Sales Tax Rate', '0.065', 'nan', '2022-01-01 00:00:00'], ['Burlington', 'Total Sales Tax Rate', '0.086', 'nan', '2022-01-01 00:00:00'], ['Concrete', 'Local Sales Tax Rate', '0.023', 'nan', '2022-01\n",
      "29\n",
      "[['Unincorp. Areas', 'Local Sales Tax Rate', '0.023', 'nan', '2022-07-01 00:00:00'], ['Unincorp. Areas', 'State Sales Tax Rate', '0.065', 'nan', '2022-07-01 00:00:00'], ['Unincorp. Areas', 'Total Sales Tax Rate', '0.088', 'nan', '2022-07-01 00:00:00'], ['Coupeville', 'Local Sales Tax Rate', '0.023', 'nan', '2022-07-01 00:00:00'], ['Coupeville', 'State Sales Tax Rate', '0.065', 'nan', '2022-07-01 00:00:00'], ['Coupeville', 'Total Sales Tax Rate', '0.088', 'nan', '2022-07-01 00:00:00'], ['Langley', 'Local Sales Tax Rate', '0.023', 'nan', '2022-07-01 00:00:00'], ['Langley', 'State Sales Tax Rate', '0.065', 'nan', '2022-07-01 00:00:00'], ['Langley', 'Total Sales Tax Rate', '0.088', 'nan', '2022-07-01 00:00:00'], ['Oak Harbor', 'Local Sales Tax Rate', '0.025', 'nan', '2022-07-01 00:00:00'], ['Oak Harbor', 'State Sales Tax Rate', '0.065', 'nan', '2022-07-01 00:00:00'], ['Oak Harbor', 'Total Sales Tax Rate', '0.090', 'nan', '2022-07-01 00:00:00']]\n",
      "30\n",
      "[['Unincorp. Areas', 'Local Sales Tax Rate', '0.016', 'nan', '2022-07-01 00:00:00'], ['Unincorp. Areas', 'State Sales Tax Rate', '0.065', 'nan', '2022-07-01 00:00:00'], ['Unincorp. Areas', 'Total Sales Tax Rate', '0.081', 'nan', '2022-07-01 00:00:00'], ['Unincorp. Areas PTBA', 'Local Sales Tax Rate', '0.028', 'nan', '2022-07-01 00:00:00'], ['Unincorp. Areas PTBA', 'State Sales Tax Rate', '0.065', 'nan', '2022-07-01 00:00:00'], ['Unincorp. Areas PTBA', 'Total Sales Tax Rate', '0.093', 'nan', '2022-07-01 00:00:00'], ['Bucoda', 'Local Sales Tax Rate', '0.016', 'nan', '2022-07-01 00:00:00'], ['Bucoda', 'State Sales Tax Rate', '0.065', 'nan', '2022-07-01 00:00:00'], ['Bucoda', 'Total Sales Tax Rate', '0.081', 'nan', '2022-07-01 00:00:00'], ['Lacey', 'Local Sales Tax Rate', '0.030', 'nan', '2022-07-01 00:00:00'], ['Lacey', 'State Sales Tax Rate', '0.065', 'nan', '2022-07-01 00:00:00'], ['Lacey', 'Total Sales Tax Rate', '0.095', 'nan', '2022-07-01 00:00:00'], ['Olympia', 'Local Sales Tax Rate', '0.029', 'nan', '2022-07-01 00:00:00'], ['Olympia', 'State Sales Tax Rate', '0.065', 'nan', '2022-07-01 00:00:00'], ['Olympia', 'Total Sales Tax Rate', '0.094',\n",
      "31\n",
      "[['Lummi Nation – Ferndale MVET', 'Local Sales Tax Rate', '0.022', 'nan', '2022-07-01 00:00:00'], ['Lummi Nation – Ferndale MVET', 'State Sales Tax Rate', '0.065', 'nan', '2022-07-01 00:00:00'], ['Lummi Nation – Ferndale MVET', 'Total Sales Tax Rate', '0.087', 'nan', '2022-07-01 00:00:00']]\n",
      "32\n",
      "[['Indiana', 'individual adjusted gross income tax rate', '3.23', 'nan', 'nan'], ['Indiana', 'corporate and sales tax rates', '10.5, 'nan', 'nan'], ['Indiana', 'County tax rates', '25.5, 'nan', 'nan'], ['Indiana', 'County innkeeper's tax', '2.25', 'nan', 'nan'], ['Indiana','miscellaneous tax rates', '1.5', 'nan', 'nan'], ['Indiana's miscellaneous tax ratesWithholding agents - County withholding tax rates', '2.0', 'nan', 'nan'], ['Indiana's miscellaneous tax ratesWithholding agents - County withholding tax rates', '1.0', 'nan', 'nan'], ['Aircraft registration/transfer fee', '$10', 'nan', 'nan'], ['Annual dealer fee', '$25', 'nan', 'nan'], ['Industrial dealer fee', '$25', 'nan', 'nan'], ['Industrial dealer information', 'Industrial fee', 'nan'], ['Industrial license fee', '$150', 'nan', 'nan'], ['Industrial license fee', 'nan', 'nan'], ['Industrial petroleum storage tank annual fee', '$200', 'nan', 'nan'], ['Industrial petroleum storage tank containing regulated substances other than petroleum', '45', 'nan', 'nan'], ['Industrial waste tire management fee', '0.25', 'nan', 'nan'], ['Industrial waste tire management fee', '0.5', 'nan', 'nan'], ['Industrial waste tire management fee', '0.5', 'nan', 'nan'], ['Industrial waste tire management fee', '0.5', 'nan', 'nan']]\n",
      "33\n",
      "[['Lava Hot Springs', 'nan', 'nan', '3','rents or leases for temporary lodging of less than thirty (30) days'], ['Lava Hot Springs', 'nan', 'nan', '2', 'liquor by-the-drink'], ['Lava Hot Springs', 'nan', 'nan', '2','retail sales']]\n",
      "34\n",
      "[['Matanuska-Susitna Borough', 'nan', 'nan', 'nan']]\n",
      "35\n",
      "[['Vermont', 'Rooms Tax', '9.0', 'nan', '2020-02-01 00:00:00']]\n",
      "36\n",
      "[['Adison', 'January 1, 2022', 'nan', '8.0', 'Sales Tax Rate'], ['Arcola', 'January 1, 2022', 'nan', '8.25', 'Sales Tax Rate'], ['Arcola', 'January 1, 2022', 'nan', '8.75', 'Sales Tax Rate'], ['Aurora (DuPage County)', 'January 1, 2022', 'nan', '8.5', 'Sales Tax Rate'], ['Aurora (DuPage County)', 'January 1, 2022', 'nan', '8.25', 'Sales Tax Rate'], ['Aurora (DuPage County)', 'January 1, 2022', 'nan', '8.75', 'Sales Tax Rate'], ['Aurora (DuPage County)', 'January 1, 2022', 'nan', '8.25', 'Sales Tax Rate'], ['Aurora (DuPage County)', 'January 1, 2022', 'nan', '8.25', 'Sales Tax Rate'], ['Balance', 'January 1, 2022', 'nan', '8.25', 'Sales Tax Rate'], ['Balance', 'January 1, 2022', 'nan', '8.25', 'Sales Tax Rate'], ['Balance', 'January 1, 2022', 'nan', '8.25', 'Sales Tax Rate'], ['Balance', 'January 1, 2022', 'nan', '8.25', 'Sales Tax Rate'], ['Balance', 'January 1, 2022', 'nan', '8.25', 'Sales Tax Rate'], ['Balance', 'January 1, 2022', 'nan', '8.25', 'Sales Tax Rate'], ['Balance', 'January 1, 2022', 'nan', '8.25', 'Sales Tax Rate'], ['Balance', 'January 1, 2022', 'nan', '8.25', 'Sales Tax Rate'], ['Balance', 'January 1, 2022', 'nan', '8.25', 'Sales Tax Rate'], ['Balance', '\n",
      "37\n",
      "[['Bartonville', 'Home Rule', '8.5', 'nan', '2021-07-01 00:00:00'], ['Bourbonnais', 'Business District', '6.25', 'nan', '2021-07-01 00:00:00'], ['Bourbonnais', 'Outside Business District', '7.25', 'nan', '2021-07-01 00:00:00'], ['Bourbonnais', 'Business District', '7.25', 'nan', '2021-07-01 00:00:00'], ['Chatsworth', 'Home Rule', '8.25', 'nan', '2021-07-01 00:00:00'], ['Deer Park (Cook)', '9.5', 'nan', '2021-07-01 00:00:00'], ['Deer Park (Lake)', '7.5', 'nan', '2021-07-01 00:00:00'], ['Deer Park (Lake)', '8.0', 'nan', '2021-07-01 00:00:00'], ['Durlin', 'Business District', '7.25', 'nan', '2021-07-01 00:00:00'], ['Durlin', 'Outside Business District', '7.25', 'nan', '2021-07-01 00:00:00'], ['Durlin', 'Business District', '7.25', 'nan', '2021-07-01 00:00:00'], ['Downs', 'Business District', '7.25', 'nan', '2021-07-01 00:00:00'], ['Downs', 'Non-Home Rule', '8.25', 'nan', '2021-07-01 00:00:00'], ['Harvey', 'Business District', '10.50', 'nan', '2021-07-01 00:00:00'], ['Harvey', 'Home Rule', '10.50', 'nan', '2021-07-01 00:00:00'], ['Hanover Park (Cook)', 'Home Rule', '10.0', 'nan', '2021-07-01 00:00:00'], ['Hanover Park (DuPage)', '\n",
      "38\n",
      "[['Flomaton', 'Sales & Use Taxes - General Rate', '5.0', 'nan', '2021-07-01 00:00:00'], ['Flomaton', 'Sales & Use Taxes - Admissions to places of amusement and entertainment', '5.0', 'nan', '2021-07-01 00:00:00'], ['Flomaton', 'Sales & Use Taxes - Retail Selling Price of food for human consumption sold through vending machines', '5.0', 'nan', '2021-07-01 00:00:00'], ['Flomaton', 'Sales & Use Taxes - Net difference paid for machines, machinery, and equipment used in planting, cultivating and harvesting farm products', '1.0', 'nan', '2021-07-01 00:00:00'], ['Flomaton', 'Sales & Use Taxes - Machines and parts and attachments for machines used in manufacturing tangible personal property', '1.0', 'nan', '2021-07-01 00:00:00'], ['Flomaton', 'Sales & Use Taxes - Net difference paid for all automotive vehicles, truck trailers, semi-trailers and house trailers', '1.0', 'nan', '2021-07-01 00:00:00'], ['Flomaton', 'Sales & Use Taxes - Withdrawal fee for automotive vehicle dealers only', '2.0', 'nan', '2021-07-01 00:00:00']]\n",
      "39\n",
      "[['Indian Springs Village', 'Sales and Use Tax Rates: General Rate', '2.0', 'nan', '2021-003'], ['Indian Springs Village', 'Sales and Use Tax Rates: Admissions to places of amusement and entertainment', '2.0', 'nan', '2021-003'], ['Indian Springs Village', 'Sales and Use Tax Rates: Retail selling price of food for human consumption sold through vending machines', '2.0', 'nan', '2021-003'], ['Indian Springs Village', 'Sales and Use Tax Rates: Net difference paid for machines, machinery and equipment used in planting, cultivating, and harvesting farm products', '2.0', 'nan', '2021-003'], ['Indian Springs Village', 'Sales and Use Tax Rates: Machines, parts, and attachments for machines used in manufacturing of tangible personal property', '2.0', 'nan', '2021-003'], ['Indian Springs Village', 'Sales and Use Tax Rates: Net difference paid for all automotive vehicles, truck trailers, semi-trailers, and house trailers', '2.0', 'nan', '2021-003'], ['Indian Springs Village', 'Sales and Use Tax Rates: Withdrawal fee for automotive vehicle dealers only', '2.5', 'nan', '2021-003']]\n",
      "40\n",
      "[['Irondale', 'Sales and Use Taxes', '4.0', 'nan', '2022-06-27 00:00:00'], ['Irondale', 'Sales and Use Taxes', '1.5', 'nan', '2022-06-27 00:00:00'], ['Irondale', 'Sales and Use Taxes', '1.5', 'nan', '2022-06-27 00:00:00']]\n",
      "41\n",
      "[['City of Arcadia (located in Los Angeles County)', 'Sales and Use Tax Rates', '10.25', 'nan', '2020-01-01 00:00:00']]\n",
      "42\n",
      "[['City of Donnelly', 'NonProperty Sales Tax', '1.0', 'nan', 'nan'], ['City of Donnelly', 'Occupancy Tax', '3.0', 'nan', 'nan'], ['City of Donnelly', 'Total Retail Sales Tax', '2.0', 'nan', 'nan'], ['City of Donnelly', 'Less Nontaxable Retail Sales Tax', '2.0', 'nan', 'nan'], ['City of Donnelly', 'Net Taxable Retail Sales Tax', '2.0', 'nan', 'nan'], ['City of Donnelly', 'Occupancy Tax', '3.0', 'nan', 'nan'], ['City of Donnelly', 'Interest', '2.0', 'nan', 'nan'], ['City of Donnelly', 'Total Local Option Tax Due', '2.0', 'nan', 'nan'], ['City of Donnelly', 'Total Local Option Tax Due', '2.0', 'nan', 'nan'], ['City of Donnelly', 'Total Local Option Tax Due', '2.0', 'nan', 'nan'], ['City of Donnelly', 'Total Local Option Tax Due', '2.0', 'nan', 'nan'], ['City of Donnelly', 'Use Tax', '1.0', 'nan', 'nan'], ['City of Donnelly', 'Net Taxable Retail Sales Tax', '2.0', 'nan', 'nan'], ['City of Donnelly', 'Occupancy Tax', '3.0', 'nan', 'nan'], ['City of Donnelly', 'Total Lodging Sales Tax', '2.0', 'nan', 'nan'], ['City of Donnelly', 'Occupancy Tax', '3.0', 'nan', 'nan'], ['City of Donnelly', 'Total\n",
      "43\n",
      "[['Dacono', 'Lodging Tax', 'nan', 'nan', '0.03', 'nan'], ['Dacono', 'Lodging Tax', 'nan', 'nan', '0.04', 'nan'], ['Dacono', 'Lodging Tax', 'nan', 'nan', '0.03', 'nan'], ['Dacono', 'Lodging Tax', 'nan', 'nan', '0.04', 'nan'], ['Dacono', 'Lodging Tax', 'nan', 'nan', '0.04', 'nan'], ['Dacono', 'Lodging Tax', 'nan', 'nan', '0.04', 'nan'], ['Dacono', 'Lodging Tax', 'nan', 'nan', '0.04', 'nan'], ['Dacono', 'Lodging Tax', 'nan', 'nan', '0.04', 'nan'], ['Dacono', 'Lodging Tax', 'nan', 'nan', '0.04', 'nan'], ['Dacono', 'Lodging Tax', 'nan', 'nan', '0.04', 'nan'], ['Dacono', 'Lodging Tax', 'nan', 'nan', '0.04', 'nan'], ['Dacono', 'Lodging Tax', 'nan', 'nan', '0.04', 'nan'], ['Dacono', 'Lodging Tax', 'nan', 'nan', '0.04', 'nan'], ['Dacono', 'Lodging Tax', 'nan', 'nan', '0.04', 'nan'], ['Dacono', 'Lodging Tax', 'nan', '0.04', 'nan'], ['Dacono', 'Lodging Tax', 'nan', '0.04', 'nan'], ['Dacono', 'Lodging Tax', 'nan', '0.04', 'nan'], ['\n",
      "44\n",
      "[['PHENIX CITY', 'Sales & Use Taxes - General Rate', '4.750', 'NaT', '2022-08-01 00:00:00'], ['PHENIX CITY', 'Sales & Use Taxes - Admissions to places of amusement and entertainment', '4.750', 'NaT', '2022-08-01 00:00:00'], ['PHENIX CITY', 'Sales & Use Taxes - Retail Selling Price of food for human consumption sold through vending machines', '4.750', 'NaT', '2022-08-01 00:00:00'], ['PHENIX CITY', 'Sales & Use Taxes - Net difference paid for machines, machinery, and equipment used in planting, cultivating and harvesting farm products', '4.750', 'NaT', '2022-08-01 00:00:00'], ['PHENIX CITY', 'Sales & Use Taxes - Machines and parts and attachments for machines used in manufacturing tangible personal property', '4.750', 'NaT', '2022-08-01 00:00:00'], ['PHENIX CITY', 'Sales & Use Taxes - Net difference paid for all automotive vehicles, truck trailers, semi-trailers and house trailers', '3.75', 'NaT', '2022-08-01 00:00:00'], ['PHENIX CITY', 'Sales & Use Taxes - Withdrawal fee for automotive vehicle dealers only', '20.0', 'NaT', '2022-08-01 00:00:00']]\n",
      "45\n",
      "[['Semmes', 'Sales & Use Taxes - General Rate', '4.0', 'nan', '2021-08-01 00:00:00'], ['Semmes', 'Sales & Use Taxes - Admissions to places of amusement and entertainment', '4.0', 'nan', '2021-08-01 00:00:00'], ['Semmes', 'Sales & Use Taxes - Retail Selling Price of food for human consumption sold through vending machines', '4.0', 'nan', '2021-08-01 00:00:00'], ['Semmes', 'Sales & Use Taxes - Net difference paid for machines, machinery, and equipment used in planting, cultivating and harvesting farm products', '1.0', 'nan', '2021-08-01 00:00:00'], ['Semmes', 'Sales & Use Taxes - Machines and parts and attachments for machines used in manufacturing tangible personal property', '1.0', 'nan', '2021-08-01 00:00:00'], ['Semmes', 'Sales & Use Taxes - Net difference paid for all automotive vehicles, truck trailers, semi-trailers and house trailers', '2.0', 'nan', '2021-08-01 00:00:00'], ['Semmes', 'Sales & Use Taxes - Withdrawal fee for automotive vehicle dealers only', '5.0', 'nan', '2021-08-01 00:00:00']]\n",
      "46\n",
      "[['Arapahoe (Extension)', 'Tax Rate', '0.5', 'nan', '2022-01-01 00:00:00'], ['Arapahoe (Extension)', 'Use Tax', '2.5', 'nan', '2022-01-01 00:00:00'], ['Clear Creek (Increased Tax)', 'Tax Rate', '2.6', 'nan', '2022-01-01 00:00:00'], ['Clear Creek (Increased Tax)', 'None', 'nan', '2022-01-01 00:00:00'], ['Conejos (New Tax Jurisdiction)', 'Tax Rate', '2.65', 'nan', '2022-01-01 00:00:00'], ['Conejos (New Tax Jurisdiction)', 'Use Tax', '2.65', 'nan', '2022-01-01 00:00:00'], ['Eagle (Service Fee)', 'Tax Rate', '1.5', 'nan', '2022-01-01 00:00:00'], ['Eagle (Service Fee)', 'None', 'nan', '2022-01-01 00:00:00']]\n",
      "47\n",
      "[['Crowley', 'COMB LOCAL RATE', '5.5', 'nan', '2018-07-01 00:00:00'], ['Crowley', 'STATE RATE', '4.45', 'nan', '2018-07-01 00:00:00'], ['Crowley', 'TOTAL RATE', '9.95', 'nan', '2018-07-01 00:00:00'], ['Church Point', 'COMB LOCAL RATE', '5.2', 'nan', '2018-07-01 00:00:00'], ['Church Point', 'STATE RATE', '4.45', 'nan', '2018-07-01 00:00:00'], ['Church Point', 'TOTAL RATE', '9.70', 'nan', '2018-07-01 00:00:00'], ['Iota', 'COMB LOCAL RATE', '5.2', 'nan', '2018-07-01 00:00:00'], ['Iota', 'STATE RATE', '4.45', 'nan', '2018-07-01 00:00:00'], ['Iota', 'TOTAL RATE', '9.95', 'nan', '2016-04-01 00:00:00'], ['Estherwood', 'COMB LOCAL RATE', '5.2', 'nan', '2016-04-01 00:00:00'], ['Estherwood', 'STATE RATE', '4.45', 'nan', '2016-04-01 00:00:00'], ['Estherwood', 'TOTAL RATE', '9.70', 'nan', '2016-04-01 00:00:00'], ['Mermentau', 'COMB LOCAL RATE', '4.2', 'nan', '2016-04-01 00:00:00'], ['Mermentau', 'STATE RATE', '4.45', 'nan', '2016-04-01 00:00:00'], ['Mermentau', 'TOTAL RATE', '8.70', 'nan', '2016-04-01 00:00:00'], ['Rayne', 'COMB LOCAL RATE', '5.0',\n",
      "48\n",
      "[['Arcadia', 'COMB.LOCAL RATE', '5.5', 'nan', '2018-07-01 00:00:00'], ['Arcadia', 'STATE RATE', '4.45', 'nan', '2018-07-01 00:00:00'], ['Arcadia', 'TOTALRATE', '9.95', 'nan', '2018-07-01 00:00:00'], ['Gibsland', 'COMB.LOCAL RATE', '5.0', 'nan', '2018-07-01 00:00:00'], ['Gibsland', 'STATE RATE', '4.45', 'nan', '2018-07-01 00:00:00'], ['Gibsland', 'TOTALRATE', '9.45', 'nan', '2018-07-01 00:00:00'], ['Ringgold', 'COMB.LOCAL RATE', '5.0', 'nan', '2018-07-01 00:00:00'], ['Ringgold', 'STATE RATE', '4.45', 'nan', '2018-07-01 00:00:00'], ['Ringgold', 'TOTALRATE', '9.45', 'nan', '2018-07-01 00:00:00'], ['Castor', 'COMB.LOCAL RATE', '4.0', 'nan', '2018-07-01 00:00:00'], ['Castor', 'STATE RATE', '4.45', 'nan', '2018-07-01 00:00:00'], ['Castor', 'TOTALRATE', '8.45', 'nan', '2018-07-01 00:00:00'], ['Balance of Parish', 'COMB.LOCAL RATE', '4.0', 'nan', '2018-07-01 00:00:00'], ['Balance of Parish', 'STATE RATE', '4.45', 'nan', '2018-07-01 00:00:00'], ['Balance of Parish', 'TOTALRATE', '7.45',\n",
      "49\n",
      "[['False Pass', 'Sales and Use Tax', '3.0', 'nan', '1990-01-01 00:00:00'], ['False Pass', 'Bed Tax (hotels)', '6.0', 'nan', '1990-01-01 00:00:00'], ['False Pass', 'Raw Fish Tax', '2.0', 'nan', '1990-01-01 00:00:00'], ['False Pass', 'City Dock and Boat Harbor', '3.0', 'nan', '1990-01-01 00:00:00'], ['False Pass', 'Mail Boat', '4.0', 'nan', '1990-01-01 00:00:00'], ['False Pass', 'Sea Freight Service', '3.0', 'nan', '1990-01-01 00:00:00'], ['False Pass', 'Oduna', '7.216', 'nan', '1965-11-26 'nan', '1965-11-26 'nan', '1965-11-26 'nan', '1965-11-26 'nan', '1965-11-26 'nan', '1965-11-26 'nan', '1965-11-26 'nan', '1965-11-26 'nan', '1965-11-26 'nan', '1965-11-26 'nan', '1965-11-26 'nan', '1965-11-26 'nan', '1965-11-26 'nan', '1965-11-26 'nan', '1965-11-26 'nan', '1965-11-26 'nan', '1965-11-26 'nan', '1965-11-26 'nan', '1965-11-26 'nan', '1965-11-26 'nan', '1965-11-26 'nan', '1965-11-26 'nan', '1965-11-26 'nan', '1965-11-26 'nan', '1965-11-26 'nan', '1965-11-26 'nan', '1965-11-26 'nan', '1965-11-26 'nan', '1965-11-26 'nan', '1965-11-26 'nan', '1965-11-26 'nan', '1965-11-26 'nan', '1965-11-26 'nan', '1965-11-26 'nan', '1965-11-26 'nan', '1965-11-26 'nan', '1965-11-26 'nan', '1965-11-26 'nan', '1965-11-26 'nan', '1965-11-26 'nan', '1965-11-26 'nan', '1965-11-26 'nan', '1965-11-26 'nan', '1965-11-26 'nan', '1965-11-26 'nan', '1965-11-26 'nan', '1965-11-26 'nan', '1965-11-26 'nan', '1965-11-26 'nan', '1965-11-26 'nan', '1965-11-26 'nan', '1965-11-26 'nan', '1965-11-26 'nan', '1965-11-26 'nan', '1965-11-26 'nan', '1965-11-26 'nan', '1965-11-26 'nan',\n",
      "50\n",
      "[['Bethel', 'nan', 'nan', '1', 'Sales Tax'], ['Bethel', 'nan', 'nan', '7', 'Sales Tax'], ['Bethel', 'nan', 'nan', '7', 'Sales Tax'], ['Bethel', 'nan', 'nan', '15', 'Sales Tax'], ['Bethel', 'nan', 'nan', '20', 'Sales Tax']]\n",
      "51\n",
      "[['Balance of Parish', 'COMBINED LOCAL RATE', '5.0', 'nan', '2018-07-01 00:00:00'], ['Balance of Parish', 'STATE RATE', '4.45', 'nan', '2018-07-01 00:00:00'], ['Balance of Parish', 'TOTALRATE', '9.45', 'nan', '2018-07-01 00:00:00'], ['Farmerville', 'COMBINED LOCAL RATE', '7.0', 'nan', '2018-07-01 00:00:00'], ['Farmerville', 'STATE RATE', '4.45', 'nan', '2018-07-01 00:00:00'], ['Farmerville', 'TOTALRATE', '11.45', 'nan', '2018-07-01 00:00:00'], ['Bernice', 'COMBINED LOCAL RATE', '7.0', 'nan', '2018-07-01 00:00:00'], ['Bernice', 'STATE RATE', '4.45', 'nan', '2018-07-01 00:00:00'], ['Bernice', 'TOTALRATE', '11.45', 'nan', '2018-07-01 00:00:00'], ['Marion', 'COMBINED LOCAL RATE', '6.0', 'nan', '2018-07-01 00:00:00'], ['Marion', 'STATE RATE', '4.45', 'nan', '2018-07-01 00:00:00'], ['Marion', 'TOTALRATE', '10.45', 'nan', '2018-07-01 00:00:00'], ['Junction City', 'COMBINED LOCAL RATE', '6.0', 'nan', '2018-07-01 00:00:00'], ['Junction City', 'STATE RATE', '4.45', 'nan', '2018-07-01 00:00:00'], ['Junction City', 'TOTALRATE', '10.45', 'nan', '2018-07-01 00:00:00'], [\n",
      "52\n",
      "[['Wellman', 'Local Rate', '0.01', 'nan', '2020-01-01 00:00:00'], ['Wellman', 'Total Rate', '0.0775', 'nan', '2020-01-01 00:00:00'], ['Terry Co', 'Local Rate', '0.05', 'nan', '2020-01-01 00:00:00'], ['Terry Co', 'Total Rate', '0.05', 'nan', '2020-01-01 00:00:00']]\n",
      "53\n",
      "[['North Dakota', 'nan', 'nan', 'nan', 'nan']]\n",
      "54\n",
      "[['Humboldt County (#46)', 'Local Option Tax', '6.0', 'nan', '2022-07-01 00:00:00'], ['Des Moines County (#29)', 'Local Option Tax', '4.0', 'nan', '2022-07-01 00:00:00'], ['Floyd County (#34)', 'Local Option Tax', '4.0', 'nan', '2022-07-01 00:00:00'], ['Howard County (#45)', 'Local Option Tax', '4.0', 'nan', '2022-07-01 00:00:00'], ['Appanoose County (#4)', 'Local Option Tax', '4.0', 'nan', '2022-07-01 00:00:00'], ['LuVerne', 'Local Option Tax', '6.0', 'nan', '2022-07-01 00:00:00'], ['Rutland', 'Local Option Tax', '6.0', 'nan', '2022-07-01 00:00:00'], ['Burlington', 'Local Option Tax', '6.0', 'nan', '2022-07-01 00:00:00'], ['Charles City', 'Local Option Tax', '6.0', 'nan', '2022-07-01 00:00:00'], ['Unincorporated', 'Local Option Tax', '6.0', 'nan', '2022-07-01 00:00:00'], ['Moulton', 'Local Option Tax', '6.0', 'nan', '2022-07-01 00:00:00'], ['Moulton', 'Local Option Tax', '6.0', 'nan', '2022-07-01 00:00:00'], ['Mouton', 'Local Option Tax', '6.0', 'nan', '2022-07-01 00:00:00']]\n",
      "55\n",
      "[['North Carolina', 'nan', 'nan', '2', 'county tax'], ['North Carolina', 'nan', 'nan', '1', 'Mecklenburg County tax'], ['North Carolina', 'nan', 'nan', '1', 'Dare County tax']]\n",
      "56\n",
      "[['Chicago', 'nan', 'nan', '9', 'Personal Property Lease Transaction Tax']]\n",
      "57\n",
      "[['Balance of Parish', 'COMB.LOCAL RATE', '4.0', 'nan', '2018-07-01 00:00:00'], ['Balance of Parish', 'STATE RATE', '4.45', 'nan', '2018-07-01 00:00:00'], ['Balance of Parish', 'TOTALRATE', '8.45', 'nan', '2018-07-01 00:00:00'], ['New Roads', 'COMB.LOCAL RATE', '5.0', 'nan', '2018-07-01 00:00:00'], ['New Roads', 'STATE RATE', '4.45', 'nan', '2018-07-01 00:00:00'], ['New Roads', 'TOTALRATE', '9.45', 'nan', '2018-07-01 00:00:00'], ['Livion', 'COMB.LOCAL RATE', '5.0', 'nan', '2018-07-01 00:00:00'], ['Livion', 'STATE RATE', '4.45', 'nan', '2018-07-01 00:00:00'], ['Livion', 'TOTALRATE', '9.45', 'nan', '2018-07-01 00:00:00'], ['Morganza', 'COMB.LOCAL RATE', '5.0', 'nan', '2018-07-01 00:00:00'], ['Morganza', 'STATE RATE', '4.45', 'nan', '2018-07-01 00:00:00'], ['Morganza', 'TOTALRATE', '9.45', 'nan', '2018-07-01 00:00:00'], ['Fordoche', 'COMB.LOCAL RATE', '5.0', 'nan', '2018-07-01 00:00:00'], ['Fordoche', 'STATE RATE', '4.45', 'nan', '2018-07-01 00:00:00'], ['Fordoche', 'TOTALRATE', '9.45', 'nan', '2018-07-01 00:00:00']]\n",
      "58\n",
      "[['Oklahoma', 'nan', 'nan', 'nan', 'nan']]\n",
      "59\n",
      "[['Ohio', 'nan', 'nan', 'nan', 'nan']]\n",
      "60\n",
      "[['Utah', 'nan', 'nan', 'nan', 'nan']]\n",
      "61\n",
      "[['Red Lodge', 'Resort Tax', '4.0', 'nan', '2020-07-09 00:00:00'], ['Red Lodge', 'Infrastructure Resort Tax', '1.0', 'nan', '2020-07-09 00:00:00'], ['Red Lodge', 'Resort Tax', '1.0', 'nan', '2020-07-09 00:00:00'], ['Red Lodge', 'Infrastructure Resort Tax', '1.0', 'nan', '2020-07-09 00:00:00'], ['Red Lodge', 'Resort Tax', '1.0', 'nan', '2020-07-09 00:00:00']]\n",
      "62\n",
      "[['Balance of Parish', 'COMB.LOCAL RATE', '4.0', 'nan', '2018-07-01 00:00:00'], ['Balance of Parish', 'STATE RATE', '4.45', 'nan', '2018-07-01 00:00:00'], ['Balance of Parish', 'TOTALRATE', '8.45', 'nan', '2018-07-01 00:00:00'], ['Delhi', 'COMB.LOCAL RATE', '6.0', 'nan', '2018-07-01 00:00:00'], ['Delhi', 'STATE RATE', '4.45', 'nan', '2018-07-01 00:00:00'], ['Delhi', 'TOTALRATE', '10.45', 'nan', '2018-07-01 00:00:00'], ['Mangham', 'COMB.LOCAL RATE', '5.0', 'nan', '2018-07-01 00:00:00'], ['Mangham', 'STATE RATE', '4.45', 'nan', '2018-07-01 00:00:00'], ['Mangham', 'TOTALRATE', '9.45', 'nan', '2018-07-01 00:00:00'], ['Rayville', 'COMB.LOCAL RATE', '5.5', 'nan', '2018-07-01 00:00:00'], ['Rayville', 'STATE RATE', '4.45', 'nan', '2018-07-01 00:00:00'], ['Rayville', 'TOTALRATE', '9.95', 'nan', '2018-07-01 00:00:00']]\n",
      "63\n",
      "[['Many', 'COMB.LOCAL RATE', '0.5', 'nan', '2018-07-01 00:00:00'], ['Many', 'STATE RATE', '4.45', 'nan', '2018-07-01 00:00:00'], ['Many', 'TOTALRATE', '10.05', 'nan', '2018-07-01 00:00:00'], ['Sch. Dist. 34', 'COMB.LOCAL RATE', '0.5', 'nan', '2018-07-01 00:00:00'], ['Sch. Dist. 34', 'STATE RATE', '4.45', 'nan', '2018-07-01 00:00:00'], ['Sch. Dist. 34', 'TOTALRATE', '9.075', 'nan', '2018-07-01 00:00:00'], ['Bal. of Parish Sch. Dist. 2', 'COMB.LOCAL RATE', '0.5', 'nan', '2018-07-01 00:00:00'], ['Bal. of Parish Sch. Dist. 2', 'STATE RATE', '4.45', 'nan', '2018-07-01 00:00:00'], ['Bal. of Parish Sch. Dist. 2', 'TOTALRATE', '9.075', 'nan', '2018-07-01 00:00:00'], ['Zwolle', 'COMB.LOCAL RATE', '0.5', 'nan', '2018-07-01 00:00:00'], ['Zwolle', 'STATE RATE', '4.45', 'nan', '2018-07-01 00:00:00'], ['Zwolle', 'TOTALRATE', '10.05', 'nan', '2018-07-01 00:00:00'], ['Converse', 'COMB.LOCAL RATE', '0.5', 'nan', '2018-07-01 00:00:00'], ['Converse', 'STATE RATE', '4.45', 'nan', '2018-07-01 00:00:00'], ['Converse', 'TOTALRATE', '10.05', 'nan', '2018-07-01 00:00:00'], ['\n",
      "64\n",
      "[['Burlington (Sales and Use Tax Increase)', 'Sales and Use Tax Rate', '3.33', 'Y-Z', '2022-07-01 00:00:00'], ['Burlington (Sales and Use Tax Increase)', 'Exempt*', 'Use Tax', '3.33', 'Y-Z', '2022-07-01 00:00:00'], ['Burlington (Sales and Use Tax Increase)', 'Exempt*', 'Use Tax', '3.33', 'Y-Z', '2022-07-01 00:00:00'], ['Grover (New Tax Jurisdiction)', 'Sales and Use Tax Rate', '1.0', 'Y-Z', '2022-07-01 00:00:00'], ['Grover (New Tax Jurisdiction)', 'Sales and Use Tax Rate', '1.0', 'Y-Z', '2022-07-01 00:00:00'], ['La Junta (State-Collected)', 'Sales and Use Tax Rate', '3.33', 'Y-Z', '2022-07-01 00:00:00'], ['La Junta (State-Collected)', 'Sales and Use Tax Rate', '3.33', 'Y-Z', '2022-07-01 00:00:00'], ['La Junta (State-Collected)', 'Sales and Use Tax Rate', '3.33', 'Y-Z', '2022-07-01 00:00:00']]\n",
      "65\n",
      "[['California', 'State Rate', '6.0', 'nan', '2021-07-01 00:00:00'], ['California', 'Local Rate', '7.0', 'nan', '2021-07-01 00:00:00'], ['California', 'Combined Rate', '7.25', 'nan', '2021-07-01 00:00:00'], ['California', 'State Rate', '6.0', 'nan', '2021-07-01 00:00:00'], ['California', 'Local Rate', '7.0', 'nan', '2021-07-01 00:00:00'], ['California', 'Combined Rate', '7.25', 'nan', '2021-07-01 00:00:00'], ['California', 'State Rate', '6.0', 'nan', '2021-07-01 00:00:00'], ['California', 'Local Rate', '7.0', 'nan', '2021-07-01 00:00:00'], ['California', 'Combined Rate', '7.25', 'nan', '2021-07-01 00:00:00'], ['California', 'State Rate', '6.0', 'nan', '2021-07-01 00:00:00'], ['California', 'Local Rate', '7.0', 'nan', '2021-07-01 00:00:00'], ['California', 'Combined Rate', '7.25', 'nan', '2021-07-01 00:00:00'], ['California', 'State Rate', '6.0', 'nan', '2021-07-01 00:00:00'], ['California', 'Combined Rate', '7.25', 'nan', '2021-07-01 00:00:00'], ['California', 'Combined Rate', '7.25', 'nan', '2021-07-01 00:00:00'], ['California', 'Combined Rate', '7.25', 'nan', '2021-07-01 00:00:00']]\n",
      "66\n",
      "[['Sandpoint', 'January 1, 2016', 'nan', '1', 'local option tax']]\n",
      "67\n",
      "[['Suquamish Tribe – Unincorporated Jefferson County', 'Local Sales Tax Rate', '0.026', 'nan', '2021-04-01 00:00:00'], ['Suquamish Tribe – Unincorporated Jefferson County', 'State Sales Tax Rate', '0.065', 'nan', '2021-04-01 00:00:00'], ['Suquamish Tribe – Unincorporated Jefferson County', 'Total Sales Tax Rate', '0.091', 'nan', '2021-04-01 00:00:00']]\n",
      "68\n",
      "[['Westchester County (outside the cities of Mount Vernon, New Rochelle, White Plains, and Yonkers)', 'Sales and Use Tax Rate', '4.0', 'nan', '2019-08-01 00:00:00'], ['Westchester County (outside the cities of Mount Vernon, New Rochelle, White Plains, and Yonkers)', 'Sales and Use Tax Rate', '4.0', 'nan', '2019-08-01 00:00:00'], ['Mount Vernon S.D. (outside city)', 'Sales and Use Tax Rate', '6.0', 'nan', '2019-08-01 00:00:00'], ['Peekskill S.D. (outside city)', 'Sales and Use Tax Rate', '6.0', 'nan', '2019-08-01 00:00:00'], ['Rye S.D. (outside city)', 'Sales and Use Tax Rate', '6.0', 'nan', '2019-08-01 00:00:00'], ['Westchester County (outside the cities of Mount Vernon, New Rochelle, White Plains, and Yonkers)', 'Sales and Use Tax Rate', '4.0', 'nan', '2019-08-01 00:00:00'], ['Mount Vernon S.D. (outside city)', 'Sales and Use Tax Rate', '6.0', 'nan', '2019-08-01 00:00:00'], ['Peekskill S.D. (outside city)', 'Sales and Use Tax Rate', '6.0', 'nan', '2019-08-01 00:00:00'], ['Rye S.D. (outside city)', 'Sales and Use Tax Rate', '6.0', 'nan', '2019-08-01 00:00:00'], ['Westchester County (outside the cities of Mount Vernon, New Rochelle, White Plains, and Yonkers)', 'Sales and Use Tax Rate', '4.0', 'nan', '2019-08-01 00:00:00'], ['Mount Vernon S.D. (outside city)', 'Sales and Use Tax Rate', '11.0', 'nan', '2019-08-01 00:00:00'], ['Rye S.D. (outside city)', 'Sales and Use Tax Rate', '11.0', 'nan', '2019-08-01 00:00:00'], ['Rye S.D. (outside city)', '\n",
      "69\n",
      "[['Balance of Parish', 'Comb. Local Rate', '5.0', 'nan', '2018-07-01 00:00:00'], ['Balance of Parish', 'State Rate', '4.45', 'nan', '2018-07-01 00:00:00'], ['Balance of Parish', 'Total Rate', '9.7', 'nan', '2018-07-01 00:00:00'], ['Newellton', 'Comb. Local Rate', '6.0', 'nan', '2018-07-01 00:00:00'], ['Newellton', 'State Rate', '4.45', 'nan', '2018-07-01 00:00:00'], ['Newellton', 'Total Rate', '10.45', 'nan', '2018-07-01 00:00:00'], ['St. Joseph', 'Comb. Local Rate', '6.25', 'nan', '2018-07-01 00:00:00'], ['St. Joseph', 'State Rate', '4.45', 'nan', '2018-07-01 00:00:00'], ['St. Joseph', 'Total Rate', '10.45', 'nan', '2018-07-01 00:00:00'], ['Waterproof', 'Comb. Local Rate', '6.0', 'nan', '2018-07-01 00:00:00'], ['Waterproof', 'State Rate', '4.45', 'nan', '2018-07-01 00:00:00'], ['Waterproof', 'Total Rate', '10.45', 'nan', '2018-07-01 00:00:00'], ['Balance of Parish', 'Comb. Local Rate', '5.0', 'nan', '2018-07-01 00:00:00'], ['Balance of Parish', 'State Rate', '4.45', 'nan', '2018-07-01 00:00:00'], ['Balance of Parish', 'Total Rate', '9.7', 'nan', '2018-07-01 00:00:00'], ['Newellton',\n",
      "70\n",
      "[['Chicago', 'nan', 'nan', '1', 'Use Tax for Non-Titled Personal Property']]\n",
      "71\n",
      "[['Vermont', 'Purchase and Use Tax (32 V.S.A.)', 'nan', 'nan']]\n",
      "72\n",
      "[['Balance of Parish Outside School District #6', 'Comb. Local Rate', '4.45', 'nan', '2018-07-01 00:00:00'], ['Balance of Parish Outside School District #6', 'State Rate', '4.45', 'nan', '2018-07-01 00:00:00'], ['Balance of Parish Outside School District #6', 'Total Rate', '7.45', 'nan', '2018-07-01 00:00:00'], ['Balance of Parish Inside School District #6', 'Comb. Local Rate', '3.5', 'nan', '2018-07-01 00:00:00'], ['Balance of Parish Inside School District #6', 'State Rate', '4.45', 'nan', '2018-07-01 00:00:00'], ['Balance of Parish Inside School District #6', 'Total Rate', '7.95', 'nan', '2018-07-01 00:00:00'], ['Sibley', 'Comb. Local Rate', '5.5', 'nan', '2018-07-01 00:00:00'], ['Sibley', 'State Rate', '4.45', 'nan', '2018-07-01 00:00:00'], ['Sibley', 'Total Rate', '9.95', 'nan', '2018-07-01 00:00:00'], ['Cotton Valley', 'Comb. Local Rate', '4.0', 'nan', '2018-07-01 00:00:00'], ['Cotton Valley', 'State Rate', '4.45', 'nan', '2018-07-01 00:00:00'], ['Cotton Valley', 'Total Rate', '8.45', 'nan', '2018-07-01 00:00:00'], ['Minden', 'Comb. Local Rate', '5.5', 'nan', '2018-07-01 00:00:00'], ['Minden', 'State Rate', '4.45', 'nan', '2018-07-01 00:00:00'], ['Minden', 'Total Rate', '9.95', 'nan', '2018-07-01 00:00:00'], ['Springhill', 'Comb. Local Rate', '5.5', 'nan', '2018-07-01 \n",
      "73\n",
      "[['West Feliciana Parish', 'Comb. Local Rate', '5.0', 'nan', '2021-04-01 00:00:00'], ['West Feliciana Parish', 'State Rate', '4.45', 'nan', '2021-04-01 00:00:00'], ['West Feliciana Parish', 'Total Rate', '9.95', 'nan', '2021-04-01 00:00:00'], ['West Feliciana Parish', 'Comb. Local Rate', '5.5', 'nan', '2021-04-01 00:00:00'], ['West Feliciana Parish', 'State Rate', '4.45', 'nan', '2021-04-01 00:00:00'], ['West Feliciana Parish', 'Total Rate', '9.95', 'nan', '2021-04-01 00:00:00'], ['Parishwide', 'Comb. Local Rate', '5.0', 'nan', '2021-04-01 00:00:00'], ['Parishwide', 'State Rate', '4.45', 'nan', '2021-04-01 00:00:00'], ['Parishwide', 'Total Rate', '9.45', 'nan', '2021-04-01 00:00:00'], ['West Feliciana Parish', 'Comb. Local Rate', '5.5', 'nan', '2021-04-01 00:00:00'], ['Parishwide', 'State Rate', '4.45', 'nan', '2021-04-01 00:00:00'], ['Parishwide', 'Total Rate', '9.95', 'nan', '2021-04-01 00:00:00'], ['Parishwide', 'Comb. Local Rate', '5.0', 'nan', '2021-04-01 00:00:00'], ['Parishwide', 'State Rate', '4.45', 'nan', '2021-04-01 00:00:00'], ['Parishwide', 'Total Rate', '9.45', 'nan', '2021-04-01 00:00:00']]\n",
      "74\n",
      "[['nan', 'nan', 'nan', 'nan', 'nan']]\n",
      "75\n",
      "[['Bay Minette', 'Sales, Use, Rental and Lodgings Taxes', 'nan', '2020-01-01 00:00:00'], ['Bay Minette', 'Lodgings Taxes', 'nan', '2020-01-01 00:00:00']]\n",
      "76\n",
      "[['CHEROKEE RIDGE', 'Sales & Use Taxes - General Rate', '5.0', 'nan', '2022-01-01 00:00:00'], ['CHEROKEE RIDGE', 'Sales & Use Taxes - Admissions to places of amusement and entertainment', '5.0', 'nan', '2022-01-01 00:00:00'], ['CHEROKEE RIDGE', 'Sales & Use Taxes - Retail Selling Price of food for human consumption sold through vending machines', '5.0', 'nan', '2022-01-01 00:00:00'], ['CHEROKEE RIDGE', 'Sales & Use Taxes - Net difference paid for machines, machinery, and equipment used in planting, cultivating and harvesting farm products', '1.5', 'nan', '2022-01-01 00:00:00'], ['CHEROKEE RIDGE', 'Sales & Use Taxes - Machines and parts and attachments for machines used in manufacturing, tangible personal property', '1.5', 'nan', '2022-01-01 00:00:00'], ['CHEROKEE RIDGE', 'Sales & Use Taxes - Net difference paid for all automotive vehicles, truck trailers, semi-trailers and house trailers', '0.5', 'nan', '2022-01-01 00:00:00'], ['CHEROKEE RIDGE', 'Sales & Use Taxes - Withdrawal fee for automotive vehicle dealers only', '5.0', 'nan', '2022-01-01 00:00:00']]\n",
      "77\n",
      "[['Fergus Falls', 'Sales and Use Tax', '0.5', 'nan', '2022-08-01 00:00:00'], ['Fergus Falls', 'Sales and Use Tax', '6.875', 'nan', '2022-08-01 00:00:00'], ['Fergus Falls', 'Transitional Sales', '9.0', 'nan', '2022-08-01 00:00:00'], ['Fergus Falls', 'Sales and Use Tax', '6.075', 'nan', '2022-08-01 00:00:00']]\n",
      "78\n",
      "[['Kanabec County', 'Transit Sales And Use Tax', '0.5', '2020-01-01 00:00:00', 'nan']]\n",
      "79\n",
      "[['Lake County', 'Lodging Tax', '4.0', '2020-10-01 00:00:00', 'nan']]\n",
      "80\n",
      "[['Lake of the Woods County', 'Lodging Tax', '3.0', 'nan', '2021-01-01 00:00:00']]\n",
      "81\n",
      "[['Le Sueur County', 'Transit Sales and Use Tax', '0.5', 'nan', '2021-04-01 00:00:00'], ['Le Sueur County', 'Transit Sales and Use Tax', 'nan', '2021-04-01 00:00:00']]\n",
      "82\n",
      "[['Lyon County', 'Sales and Use Tax', '0.5', '2020-07-01 00:00:00', 'nan']]\n",
      "83\n",
      "[['Nobles County', 'Transit Sales and Use Tax', '0.5', 'nan', '2021-01-01 00:00:00'], ['Nobles County', 'Transit Sales and Use Tax', '0.5', 'nan', '2021-01-01 00:00:00']]\n",
      "84\n",
      "[['North Mankato', 'April 1, 2020', 'nan', '0.5', 'Food and Beverage Tax'], ['North Mankato', 'April 1, 2020', 'nan', '0.5', 'Food and Beverage Tax'], ['North Mankato', 'April 1, 2020', 'nan', '0.5', 'Food and Beverage Tax'], ['North Mankato', 'April 1, 2020', 'nan', '0.5', 'Food and Beverage Tax'], ['North Mankato', 'April 1, 2020', 'nan', '0.5', 'Food and Beverage Tax'], ['North Mankato', 'April 1, 2020', 'nan', '0.5', 'Food and Beverage Tax'], ['North Mankato', 'April 1, 2020', 'nan', '0.5', 'Food and Beverage Tax'], ['North Mankato', 'April 1, 2020', 'nan', '0.5', 'Food and Beverage Tax'], ['North Mankato', 'April 1, 2020', 'nan', '0.5', 'Food and Beverage Tax'], ['North Mankato', 'April 1, 2020', 'nan', '0.5', 'Food and Beverage Tax'], ['North Mankato', 'April 1, 2020', 'nan', '0.5', 'Food and Beverage Tax'], ['North Mankato', 'April 1, 2020', 'nan', '0.5', 'Food and Beverage Tax'], ['North Mankato', 'April 1, 2020', 'nan', '0.5', 'Food and Beverage Tax'], ['North Mankato', 'April 1, 2020', 'nan', '0.5', 'Food and Beverage Tax'], ['North Mankato', 'April 1, 2020', 'nan', '0.5', 'Food and Beverage Tax'], ['North Mankato', 'April 1, 2020', 'nan', '0.5', 'Food and Beverage Tax'], ['North Mankato', 'April 1, 2020', 'nan', '0.5', 'Food and Beverage Tax'], ['North Mankato', 'April 1, 2020', 'nan', '0.5', 'Food and Beverage Tax'], ['North Mankato', 'April 1, 2020', 'nan', '0.5', 'Food and Beverage Tax'], ['North Mankato', 'April 1, 2020', 'nan', '0.5', 'Food and Beverage Tax'], ['North Mankato', '\n",
      "85\n",
      "[['Redwood County', 'April 1, 2019', 'nan', '0.5', 'transit sales and use tax'], ['Redwood County', 'April 1, 2019', 'nan', '0.5', 'transit sales and use tax']]\n",
      "86\n",
      "[['Sherburne County', 'Transit Sales And Use Tax', '0.5', '2019-01-01 00:00:00', 'nan']]\n",
      "87\n",
      "[['City of Headland', 'Lodgings Tax Rates: General Rate', '5.0', 'nan', '2021-06-01 00:00:00']]\n",
      "88\n",
      "[['HELENA', 'New Rate', '10.0', 'Lodgings, Sales, Use and Rental Taxes'], ['HELENA', 'Lodgings, Sales, Use and Rental Taxes', 'nan', 'nan']]\n",
      "89\n",
      "[['City and Borough of Juneau', 'Hotel/Motel Tax Rate', '9.9', 'nan', '2020-01-01 00:00:00'], ['City and Borough of Juneau', 'Sales Tax Rate', '5.0', 'nan', '2020-01-01 00:00:00'], ['City and Borough of Juneau', 'Total Tax', '14', 'nan', '2020-01-01 00:00:00']]\n",
      "90\n",
      "[['Hailey', 'Local Option Tax', '1.0', 'nan', '2014-01-01 00:00:00'], ['Hailey', 'Local Option Tax', '4.0', 'nan', '2014-01-01 00:00:00'], ['Hailey', 'Local Option Tax', '4.0', 'nan', '2014-01-01 00:00:00'], ['Hailey', 'Local Option Tax', '2.0', 'nan', '2014-01-01 00:00:00'], ['Hailey', 'Local Option Tax', '2.0', 'nan', '2014-01-01 00:00:00'], ['Hailey', 'Local Option Tax', '1.0', 'nan', '2014-01-01 00:00:00'], ['Hailey', 'Local Option Tax', '1.0', 'nan', '2014-01-01 00:00:00'], ['Hailey', 'Local Option Tax', '1.0', 'nan', '2014-01-01 00:00:00'], ['Hailey', 'Local Option Tax', '1.0', 'nan', '2014-01-01 00:00:00'], ['Hailey', 'Local Option Tax', '1.0', 'nan', '2014-01-01 00:00:00'], ['Hailey', 'Local Option Tax', '1.0', 'nan', '2014-01-01 00:00:00'], ['Hailey', 'Local Option Tax', '1.0', 'nan', '2014-01-01 00:00:00'], ['Hailey', 'Local Option Tax', '1.0', 'nan', '2014-01-01 00:00:00'], ['Hailey', 'Local Option Tax', '1.0', 'nan', '2014-01-01 00:00:00'], ['Hailey', 'Local Option Tax', '1.0', 'nan', '2014-01-01 00:00:00']]\n",
      "91\n",
      "[['MONROE COUNTY', 'Sales & Use Taxes', '3.500', 'General Rate', '2021-09-01 00:00:00']]\n",
      "92\n",
      "[['Pinckard', 'Sales & Use Taxes - General Rate', '4.0', 'nan', '2021-04-01 00:00:00'], ['Pinckard', 'Sales & Use Taxes - Admissions to places of amusement and entertainment', '4.0', 'nan', '2021-04-01 00:00:00'], ['Pinckard', 'Sales & Use Taxes - Retail Selling Price of food for human consumption sold through vending machines', '4.0', 'nan', '2021-04-01 00:00:00'], ['Pinckard', 'Sales & Use Taxes - Net difference paid for machines, machinery, and equipment used in planting, cultivating and harvesting farm products', '1.0', 'nan', '2021-04-01 00:00:00'], ['Pinckard', 'Sales & Use Taxes - Machines and parts and attachments for machines used in manufacturing tangible personal property', '1.0', 'nan', '2021-04-01 00:00:00'], ['Pinckard', 'Sales & Use Taxes - Net difference paid for all automotive vehicles, truck trailers, semi-trailers and house trailers', '1.0', 'nan', '2021-04-01 00:00:00'], ['Pinckard', 'Sales & Use Taxes - Withdrawal fee for automotive vehicle dealers only', '2', 'nan', '2021-04-01 00:00:00']]\n",
      "93\n",
      "[['WALKER COUNTY', 'Lodgings Tax', '9.0', 'Y', '2022-01-01 00:00:00']]\n",
      "94\n",
      "[['Winfield', 'Lodgings & Rental Tax', 'general rate', '1.0', 'nan', '2020-10-31 00:00:00'], ['Winfield', 'Room Fee', '1.0', 'nan', '2020-10-31 00:00:00']]\n",
      "95\n",
      "[['Hankinson', 'city sales, use, and gross receipts tax', '1.0', 'nan', '2021-08-01 00:00:00'], ['Minot', 'city sales, use, and gross receipts tax', '1.0', 'nan', '2021-08-01 00:00:00'], ['New Leipzig', 'city sales, use, and gross receipts tax', '1.0', 'nan', '2021-08-01 00:00:00'], ['Olette', 'city sales, use, and gross receipts tax', '2.0', 'nan', '2021-08-01 00:00:00'], ['ashburn', 'city sales, use, and gross receipts tax', '2.0', 'nan', '2021-08-01 00:00:00'], ['Washburn', 'city sales, use, and gross receipts tax', '2.0', 'nan', '2021-08-01 00:00:00'], ['Washburn', 'city sales, use, and gross receipts tax', '2.0', 'nan', '2021-08-01 00:00:00']]\n",
      "96\n",
      "[['Beulah', 'city sales, use, and gross receipts tax', '2.0', '2020-09-30 00:00:00', 'nan'], ['Williston', 'city sales, use, and gross receipts tax', '1.0', '2020-06-30 00:00:00', 'nan']]\n",
      "97\n",
      "[['Orderville (Kane County)', 'April 1, 2021', 'nan', '1', 'transient room tax']]\n",
      "98\n",
      "[['Rich County', 'Transient Room Tax Rate', '4.25', 'nan', '2022-04-01 00:00:00'], ['Eagle Mountain', 'Transient Room Tax Rate', '3.25', 'nan', '2022-04-01 00:00:00'], ['Bicknell', 'Transient Room Tax Rate', '1.25', 'nan', '2022-04-01 00:00:00'], ['Huntsville', 'Transient Room Tax Rate', '5.57', 'nan', '2022-04-01 00:00:00']]\n",
      "99\n",
      "[['Buntiful', 'October 1, 2022', 'nan', '1', 'transient room tax'], ['Manti', 'January 1, 2022', 'nan', '5.57', 'transient room tax']]\n"
     ]
    }
   ],
   "source": [
    "failed_indices = []\n",
    "predictions_finetuned = []\n",
    "for i, row in test_data.iterrows():\n",
    "    try:\n",
    "        input_text = 'generate templates: ' + row.input\n",
    "        encoded = tokenizer(input_text, return_tensors='pt', max_length=4096).to(device)\n",
    "        pred = model.generate(**encoded,max_length=4096, )\n",
    "        pred_text = tokenizer.decode(pred[0], skip_special_tokens=True)\n",
    "        predictions_finetuned.append(pred_text)\n",
    "        print(i)\n",
    "        print(pred_text)\n",
    "    except:\n",
    "        print(f\"{i} failed\")\n",
    "        failed_indices.append(\"[[]]\")\n",
    "    "
   ]
  },
  {
   "cell_type": "code",
   "execution_count": 9,
   "id": "88e7ada3-da20-425f-a50f-5482256e643e",
   "metadata": {
    "tags": []
   },
   "outputs": [
    {
     "data": {
      "text/plain": [
       "100"
      ]
     },
     "execution_count": 9,
     "metadata": {},
     "output_type": "execute_result"
    }
   ],
   "source": [
    "len(predictions_finetuned)"
   ]
  },
  {
   "cell_type": "code",
   "execution_count": 13,
   "id": "69318078-e6c0-4661-9c01-64e09921fb99",
   "metadata": {
    "tags": []
   },
   "outputs": [],
   "source": [
    "test_data['predictions'] = predictions_finetuned\n"
   ]
  },
  {
   "cell_type": "code",
   "execution_count": 16,
   "id": "da7e5244-81af-4bfd-b3ed-6e0517e9a8bb",
   "metadata": {
    "collapsed": true,
    "jupyter": {
     "outputs_hidden": true
    },
    "tags": []
   },
   "outputs": [
    {
     "data": {
      "text/html": [
       "<div>\n",
       "<style scoped>\n",
       "    .dataframe tbody tr th:only-of-type {\n",
       "        vertical-align: middle;\n",
       "    }\n",
       "\n",
       "    .dataframe tbody tr th {\n",
       "        vertical-align: top;\n",
       "    }\n",
       "\n",
       "    .dataframe thead th {\n",
       "        text-align: right;\n",
       "    }\n",
       "</style>\n",
       "<table border=\"1\" class=\"dataframe\">\n",
       "  <thead>\n",
       "    <tr style=\"text-align: right;\">\n",
       "      <th></th>\n",
       "      <th>Unnamed: 0</th>\n",
       "      <th>document_url</th>\n",
       "      <th>input</th>\n",
       "      <th>output</th>\n",
       "      <th>predictions</th>\n",
       "    </tr>\n",
       "  </thead>\n",
       "  <tbody>\n",
       "    <tr>\n",
       "      <th>0</th>\n",
       "      <td>0</td>\n",
       "      <td>2020_Apr_George-740d04.pdf</td>\n",
       "      <td>WASHINGTON STATE DEPARTMENT OF REVENUE. LOCAL ...</td>\n",
       "      <td>[['George TBD', 'Local Sales Tax Rate', '0.019...</td>\n",
       "      <td>[['Unincorp. Areas', 'Local Sales Tax Rate', '...</td>\n",
       "    </tr>\n",
       "    <tr>\n",
       "      <th>1</th>\n",
       "      <td>1</td>\n",
       "      <td>2020_Apr_GigHarbor-92d49d.pdf</td>\n",
       "      <td>WASHINGTON STATE DEPARTMENT OF REVENUE. LOCAL ...</td>\n",
       "      <td>[['Gig Harbor', 'Local Sales Tax Rate', '0.022...</td>\n",
       "      <td>[['Unincorp. Areas', 'Local Sales Tax Rate', '...</td>\n",
       "    </tr>\n",
       "    <tr>\n",
       "      <th>2</th>\n",
       "      <td>2</td>\n",
       "      <td>2020_Apr_GraysHarbor-bf4ccd.pdf</td>\n",
       "      <td>WASHINGTON STATE DEPARTMENT OF REVENUE. LOCAL ...</td>\n",
       "      <td>[['Unincorp. Areas', 'Local Sales Tax Rate', '...</td>\n",
       "      <td>[['Unincorp. Areas', 'Local Sales Tax Rate', '...</td>\n",
       "    </tr>\n",
       "    <tr>\n",
       "      <th>3</th>\n",
       "      <td>3</td>\n",
       "      <td>2020_Apr_GraysHarborLodging-d073f7.pdf</td>\n",
       "      <td>WASHINGTON STATE DEPARTMENT OF REVENUE. LOCAL ...</td>\n",
       "      <td>[['Unincorp. Areas', 'Combined Sales Tax Rate'...</td>\n",
       "      <td>[['Unincorp. Areas', 'Lodging Sales Tax Rate',...</td>\n",
       "    </tr>\n",
       "    <tr>\n",
       "      <th>4</th>\n",
       "      <td>4</td>\n",
       "      <td>2020_Apr_Yakima-561d81.pdf</td>\n",
       "      <td>WASHINGTON STATE DEPARTMENT OF REVENUE. LOCAL ...</td>\n",
       "      <td>[['Unincorp. Areas', 'Local Sales Tax Rate', '...</td>\n",
       "      <td>[['Unincorp. Areas', 'Local Sales Tax Rate', '...</td>\n",
       "    </tr>\n",
       "    <tr>\n",
       "      <th>...</th>\n",
       "      <td>...</td>\n",
       "      <td>...</td>\n",
       "      <td>...</td>\n",
       "      <td>...</td>\n",
       "      <td>...</td>\n",
       "    </tr>\n",
       "    <tr>\n",
       "      <th>95</th>\n",
       "      <td>95</td>\n",
       "      <td>local-tax-changes-10-01-2021-dd4828.pdf</td>\n",
       "      <td>\\n,Local Tax Changes\\n,Effective October 1, 20...</td>\n",
       "      <td>[['Hankinson', 'City sales, use, and gross rec...</td>\n",
       "      <td>[['Hankinson', 'city sales, use, and gross rec...</td>\n",
       "    </tr>\n",
       "    <tr>\n",
       "      <th>96</th>\n",
       "      <td>96</td>\n",
       "      <td>local-tax-changes-7-1-2020-b76cfe.pdf</td>\n",
       "      <td>Effective July 1, 2020. \\nThe following local ...</td>\n",
       "      <td>[['Beulah', 'city sales, use, and alcohol gros...</td>\n",
       "      <td>[['Beulah', 'city sales, use, and gross receip...</td>\n",
       "    </tr>\n",
       "    <tr>\n",
       "      <th>97</th>\n",
       "      <td>97</td>\n",
       "      <td>tb-01-21-7a5d19.pdf</td>\n",
       "      <td>\\n,Changes in Utah laws or Tax\\n,Commission ru...</td>\n",
       "      <td>[['Orderville (Kane County)', 'Transient Room ...</td>\n",
       "      <td>[['Orderville (Kane County)', 'April 1, 2021',...</td>\n",
       "    </tr>\n",
       "    <tr>\n",
       "      <th>98</th>\n",
       "      <td>98</td>\n",
       "      <td>tb-02-22-a5b2d2.pdf</td>\n",
       "      <td>\\n,Changes in Utah laws or Tax\\n,Commission ru...</td>\n",
       "      <td>[['Eagle Mountain (Utah County)', 'Transient R...</td>\n",
       "      <td>[['Rich County', 'Transient Room Tax Rate', '4...</td>\n",
       "    </tr>\n",
       "    <tr>\n",
       "      <th>99</th>\n",
       "      <td>99</td>\n",
       "      <td>tb-09-22-8ad57a.pdf</td>\n",
       "      <td>\\n,Changes in Utah laws or Tax\\n,Commission ru...</td>\n",
       "      <td>[['Bountiful (Davis County)', 'Transient Room ...</td>\n",
       "      <td>[['Buntiful', 'October 1, 2022', 'nan', '1', '...</td>\n",
       "    </tr>\n",
       "  </tbody>\n",
       "</table>\n",
       "<p>100 rows × 5 columns</p>\n",
       "</div>"
      ],
      "text/plain": [
       "    Unnamed: 0                             document_url  \\\n",
       "0            0               2020_Apr_George-740d04.pdf   \n",
       "1            1            2020_Apr_GigHarbor-92d49d.pdf   \n",
       "2            2          2020_Apr_GraysHarbor-bf4ccd.pdf   \n",
       "3            3   2020_Apr_GraysHarborLodging-d073f7.pdf   \n",
       "4            4               2020_Apr_Yakima-561d81.pdf   \n",
       "..         ...                                      ...   \n",
       "95          95  local-tax-changes-10-01-2021-dd4828.pdf   \n",
       "96          96    local-tax-changes-7-1-2020-b76cfe.pdf   \n",
       "97          97                      tb-01-21-7a5d19.pdf   \n",
       "98          98                      tb-02-22-a5b2d2.pdf   \n",
       "99          99                      tb-09-22-8ad57a.pdf   \n",
       "\n",
       "                                                input  \\\n",
       "0   WASHINGTON STATE DEPARTMENT OF REVENUE. LOCAL ...   \n",
       "1   WASHINGTON STATE DEPARTMENT OF REVENUE. LOCAL ...   \n",
       "2   WASHINGTON STATE DEPARTMENT OF REVENUE. LOCAL ...   \n",
       "3   WASHINGTON STATE DEPARTMENT OF REVENUE. LOCAL ...   \n",
       "4   WASHINGTON STATE DEPARTMENT OF REVENUE. LOCAL ...   \n",
       "..                                                ...   \n",
       "95  \\n,Local Tax Changes\\n,Effective October 1, 20...   \n",
       "96  Effective July 1, 2020. \\nThe following local ...   \n",
       "97  \\n,Changes in Utah laws or Tax\\n,Commission ru...   \n",
       "98  \\n,Changes in Utah laws or Tax\\n,Commission ru...   \n",
       "99  \\n,Changes in Utah laws or Tax\\n,Commission ru...   \n",
       "\n",
       "                                               output  \\\n",
       "0   [['George TBD', 'Local Sales Tax Rate', '0.019...   \n",
       "1   [['Gig Harbor', 'Local Sales Tax Rate', '0.022...   \n",
       "2   [['Unincorp. Areas', 'Local Sales Tax Rate', '...   \n",
       "3   [['Unincorp. Areas', 'Combined Sales Tax Rate'...   \n",
       "4   [['Unincorp. Areas', 'Local Sales Tax Rate', '...   \n",
       "..                                                ...   \n",
       "95  [['Hankinson', 'City sales, use, and gross rec...   \n",
       "96  [['Beulah', 'city sales, use, and alcohol gros...   \n",
       "97  [['Orderville (Kane County)', 'Transient Room ...   \n",
       "98  [['Eagle Mountain (Utah County)', 'Transient R...   \n",
       "99  [['Bountiful (Davis County)', 'Transient Room ...   \n",
       "\n",
       "                                          predictions  \n",
       "0   [['Unincorp. Areas', 'Local Sales Tax Rate', '...  \n",
       "1   [['Unincorp. Areas', 'Local Sales Tax Rate', '...  \n",
       "2   [['Unincorp. Areas', 'Local Sales Tax Rate', '...  \n",
       "3   [['Unincorp. Areas', 'Lodging Sales Tax Rate',...  \n",
       "4   [['Unincorp. Areas', 'Local Sales Tax Rate', '...  \n",
       "..                                                ...  \n",
       "95  [['Hankinson', 'city sales, use, and gross rec...  \n",
       "96  [['Beulah', 'city sales, use, and gross receip...  \n",
       "97  [['Orderville (Kane County)', 'April 1, 2021',...  \n",
       "98  [['Rich County', 'Transient Room Tax Rate', '4...  \n",
       "99  [['Buntiful', 'October 1, 2022', 'nan', '1', '...  \n",
       "\n",
       "[100 rows x 5 columns]"
      ]
     },
     "execution_count": 16,
     "metadata": {},
     "output_type": "execute_result"
    }
   ],
   "source": [
    "test_data"
   ]
  },
  {
   "cell_type": "code",
   "execution_count": 17,
   "id": "649dcbac-81e1-4129-a6e8-e6eded0985cc",
   "metadata": {
    "tags": []
   },
   "outputs": [],
   "source": [
    "test_data.to_csv(\"rui-finetuned-flant5.tsv\", sep='\\t', index=False)"
   ]
  },
  {
   "cell_type": "code",
   "execution_count": 25,
   "id": "40d07d09-f207-40bd-81a0-e388ecf361d0",
   "metadata": {
    "tags": []
   },
   "outputs": [],
   "source": [
    "# from transformers import pipeline\n",
    "# pipe = pipeline(task=\"text2text-generation\", model=model, tokenizer=tokenizer, max_length=1024, device_map=\"auto\")\n",
    "\n",
    "# result = pipe(\"generate templates: Starting Oct 1, 2019, Avon will have a 0.5 percent sales and use tax.\")\n",
    "# print(result[0]['generated_text'])"
   ]
  },
  {
   "cell_type": "code",
   "execution_count": null,
   "id": "67398c22",
   "metadata": {
    "tags": []
   },
   "outputs": [],
   "source": [
    "# from transformers import AutoModelForSeq2SeqLM, AutoTokenizer\n",
    "\n",
    "# # model = AutoModelForSeq2SeqLM.from_pretrained(\"google/flan-t5-small\")\n",
    "# tokenizer = AutoTokenizer.from_pretrained(\"google/flan-t5-large\")\n",
    "\n",
    "# inputs = tokenizer(\"Seattle logging tax is 5%, and it starts on Jan 01, 2023, and it expires on May 08, 2025\", return_tensors=\"pt\").to(device)\n",
    "# outputs = model.generate(**inputs)\n",
    "# print(tokenizer.batch_decode(outputs, skip_special_tokens=True))"
   ]
  },
  {
   "cell_type": "code",
   "execution_count": null,
   "id": "4b780e71-687a-4ef8-be10-756a8915057b",
   "metadata": {},
   "outputs": [],
   "source": []
  }
 ],
 "metadata": {
  "kernelspec": {
   "display_name": "Python 3 (ipykernel)",
   "language": "python",
   "name": "python3"
  },
  "language_info": {
   "codemirror_mode": {
    "name": "ipython",
    "version": 3
   },
   "file_extension": ".py",
   "mimetype": "text/x-python",
   "name": "python",
   "nbconvert_exporter": "python",
   "pygments_lexer": "ipython3",
   "version": "3.10.9"
  }
 },
 "nbformat": 4,
 "nbformat_minor": 5
}
